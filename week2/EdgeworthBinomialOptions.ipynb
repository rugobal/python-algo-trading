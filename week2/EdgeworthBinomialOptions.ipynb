{
 "cells": [
  {
   "cell_type": "markdown",
   "id": "916cd313",
   "metadata": {},
   "source": [
    "# Edgeworth Model Options Pricing Model"
   ]
  },
  {
   "cell_type": "markdown",
   "id": "90f82013",
   "metadata": {},
   "source": [
    "The creation of new option pricing models that directly incorporate time varying volatility and non-normal distributions is not an easy process and the results are quite complex and “messy”.  One “relatively easy” way to take the normal assumption out of the binomial lattice model and insert a distribution assumption that allows for skewness and kurtosis is known as the Edgeworth binomial lattice model.  The following process describes the adjustments that are necessary."
   ]
  },
  {
   "cell_type": "markdown",
   "id": "3963f273",
   "metadata": {},
   "source": [
    "For $j=0,1,2, \\ldots, n$ periods in the binomial lattice, then the value of a random variable is $x_j=(2 * j-n) / \\sqrt{n}$\n",
    "with associated binomial probabilities $b\\left(x_j\\right)=\\frac{n !}{j ! *(n-j) !}^*{ }^{0.5^n}$"
   ]
  },
  {
   "cell_type": "markdown",
   "id": "643b20f9",
   "metadata": {},
   "source": [
    "The Edgeworth expansion for non-normal skewness and kurtosis creates a new set of probabilities (based actually on the Gram-Charlier expansion)\n",
    "$$\n",
    "f\\left(x_j\\right)=b\\left(x_j\\right) *\\left[1+\\frac{\\text { skew }}{6} *\\left(x_j^3-3 x_j\\right)+\\frac{\\text { kurtosis }}{24} *\\left(x_j^4-6 x_j^2+3\\right)\\right]\n",
    "$$\n",
    "which are rescaled as $f\\left(x_j\\right)=f\\left(x_j\\right) / \\sum_{j=0}^n f\\left(x_j\\right)$"
   ]
  },
  {
   "cell_type": "markdown",
   "id": "eaddc3a6",
   "metadata": {},
   "source": [
    "Then a standardized random variable from this distribution takes on values\n",
    "$$\n",
    "x_j=\\left[x_j-\\sum_{j=0}^n\\left(f\\left(x_j\\right)^* x_j\\right)\\right] / \\sqrt{\\sum_{j=0}^n\\left(f\\left(x_j\\right) *\\left(x_j-\\sum_{j=0}^n\\left(f\\left(x_j\\right)^* x_j\\right)\\right)^2\\right)}\n",
    "$$\n",
    "which when applied to a stock price under risk neutrality yields stock prices\n",
    "$$\n",
    "S_j=S_d * e^a\n",
    "$$\n",
    "where $\\alpha=(r-q) t-\\ln \\left[\\sum_{j=0}^n\\left(f\\left(x_j\\right)^* e^{\\sigma \\sqrt{t} x_j}\\right)\\right]+\\sigma \\sqrt{t} x_j$\n",
    "and $S_d=S-\\sum D_i{ }^* e^{-r i t}$, the current stock price less the present value of all future discrete dividends expected to be paid during the life of the option."
   ]
  },
  {
   "cell_type": "markdown",
   "id": "e59ef7cc",
   "metadata": {},
   "source": [
    "Then European call and put values are simply\n",
    "$$\n",
    "\\begin{aligned}\n",
    "&C_e=\\left[\\sum_{j=0}^n\\left(f\\left(x_j\\right)^* \\max \\left(0, S_j-K\\right)\\right)\\right]^* e^{-n} \\\\\n",
    "&P_e=\\left[\\sum_{j=0}^n\\left(f\\left(x_j\\right)^* \\max \\left(0, K-S_j\\right)\\right)\\right]^* e^{-r t}\n",
    "\\end{aligned}\n",
    "$$"
   ]
  },
  {
   "cell_type": "markdown",
   "id": "72d1b2a6",
   "metadata": {},
   "source": [
    "For American call and put values, beginning at the end of the lattice there are path probabilities\n",
    "$$\n",
    "P_j=f\\left(x_j\\right) / \\frac{n !}{j !^*(n-j) !}\n",
    "$$\n",
    "and one-period back are the path probabilities\n",
    "$$\n",
    "P_{n-1, j}=P_j+P_{j+1}\n",
    "$$\n",
    "and move probabilities p and (1-p)\n",
    "$$\n",
    "\\begin{aligned}\n",
    "&p_{n-1, j}=P_{j+1} / P_{n-1, j} \\\\\n",
    "&\\left(1-p_{n-1, j}\\right)=P_j / P_{n-1, j}\n",
    "\\end{aligned}\n",
    "$$\n",
    "so that the stock prices one-period back are equal to\n",
    "$$\n",
    "S_{n-1, j}=\\left[p_{n-1, j} * S_{j+1}+\\left(1-p_{n-1, j}\\right) * S_j\\right]^* e^{-(r-q), / n}\n",
    "$$"
   ]
  },
  {
   "cell_type": "markdown",
   "id": "b6a99b70",
   "metadata": {},
   "source": [
    "With $\\sum D_i e^{-\\not t t_i}$ equal to the present value of all future discrete dividends as of the time node equal to (n-1), then the call and put values at the time node equal to $(\\mathrm{n}-1)$ are\n",
    "$$\n",
    "\\text { Call }_{n-1, j}=\\max \\left\\{S_{n-1, j}+\\sum D_i e^{-n n_i}-K,\\left[p_{n-1, j} * \\text { Call }_{j+1}+\\left(1-p_{n-1, j}\\right) *{ }^* \\text { Call }_j\\right] e^{-r / n}\\right\\}\n",
    "$$\n",
    "$$\n",
    "P_u t_{n-1, j}=\\max \\left\\{K-\\left(S_{n-1, j}+\\sum D_i e^{-n t_i}\\right),\\left[p_{n-1, j} * P u t_{j+1}+\\left(1-p_{n-1, j}\\right)^* P u t_j\\right]^* e^{-r t / n}\\right\\}\n",
    "$$"
   ]
  },
  {
   "cell_type": "markdown",
   "id": "eeaf73bc",
   "metadata": {},
   "source": [
    "Then move recursively back through the lattice in the same manner, from the next period back path probabilities, move probabilities, stock prices, and option values, to eventually arrive at the start of the lattice and the current option values (and current stock price).\n",
    "I told you it was only \"relatively easy\"!"
   ]
  },
  {
   "cell_type": "code",
   "execution_count": 8,
   "id": "56cd9180",
   "metadata": {},
   "outputs": [],
   "source": [
    "import numpy as np\n",
    "import pandas as pd"
   ]
  },
  {
   "cell_type": "code",
   "execution_count": 9,
   "id": "7178f2fb",
   "metadata": {},
   "outputs": [],
   "source": [
    "def choose(n, x):\n",
    "    P = np.array([np.array([0.0]*(n + 1), dtype=np.double)]*(n + 1), dtype=np.double)\n",
    "    P[0, :] = 1.0\n",
    "    P += np.eye((n + 1), (n + 1), dtype=np.double)\n",
    "\n",
    "    j = 2\n",
    "    while j <= n:\n",
    "        i = 1\n",
    "        while i <= j-1:\n",
    "            P[i][j] = P[i-1][j-1] + P[i][j-1]\n",
    "            i += 1\n",
    "        j += 1\n",
    "   \n",
    "    return P[x][n]"
   ]
  },
  {
   "cell_type": "code",
   "execution_count": 10,
   "id": "3274eb6b",
   "metadata": {},
   "outputs": [],
   "source": [
    "def sumvec(v):\n",
    "    # return the sum of v\n",
    "    return np.sum(v)"
   ]
  },
  {
   "cell_type": "code",
   "execution_count": 11,
   "id": "2e106186",
   "metadata": {},
   "outputs": [],
   "source": [
    "def edgeworth_binomial_tree(Spot, K, r, T, v, skew, kurt, n):\n",
    "\n",
    "    dt = T/n\n",
    "\n",
    "    SmallP = np.array([np.array([0.0] * (n + 1), dtype=np.double)] * (n + 1), dtype=np.double)\n",
    "    BigP = np.array([np.array([0.0] * (n + 1), dtype=np.double)] * (n + 1), dtype=np.double)\n",
    "    S = np.array([np.array([0.0] * (n + 1), dtype=np.double)] * (n + 1), dtype=np.double)\n",
    "    EC = np.array([np.array([0.0] * (n + 1), dtype=np.double)] * (n + 1), dtype=np.double)\n",
    "    EP = np.array([np.array([0.0] * (n + 1), dtype=np.double)] * (n + 1), dtype=np.double)\n",
    "    AC = np.array([np.array([0.0] * (n + 1), dtype=np.double)] * (n + 1), dtype=np.double)\n",
    "    AP = np.array([np.array([0.0] * (n + 1), dtype=np.double)] * (n + 1), dtype=np.double)\n",
    "\n",
    "    y = (2 * np.arange(n + 1) - n) / np.sqrt(n)\n",
    "    c = np.array([choose(n, j) for j in np.arange(n + 1, dtype=np.int8)])\n",
    "    b = np.multiply(c, np.power(0.5, n))\n",
    "    f = (1 + (1 / 6.0) * skew * (np.power(y, 3) - 3 * y) +\n",
    "\t        (1 / 24.0) * (kurt - 3) * (np.power(y, 4) - 6 * np.power(y, 2) + 3) +\n",
    "\t\t\t      (1 / 72.0) * np.power(skew, 2) * (np.power(y, 5) - 10 * np.power(y, 3) + 15 * y))*b\n",
    "\n",
    "    P = f / sumvec(f)\n",
    "    SmallP[:, n] = P / c\n",
    "    BigP[:, n] = SmallP[:, n]\n",
    "    Mean = np.multiply(P, y)\n",
    "\n",
    "    M = sumvec(Mean)\n",
    "    PyM = P * np.power(y-M, 2)\n",
    "\n",
    "    V2 = sumvec(PyM)\n",
    "    x = (y - M) / np.sqrt(V2)\n",
    "    Pe = P*np.exp(v*np.sqrt(T)*x)\n",
    "\n",
    "    mu = r - (1.0/T)*np.log(sumvec(Pe))\n",
    "    S[:, n] = Spot*np.exp(mu*T + v*np.sqrt(T)*x)\n",
    "\n",
    "    j = n-1\n",
    "    while j >= 0:\n",
    "        i = 0\n",
    "        while i <= j:\n",
    "            BigP[i][j] = BigP[i][j+1] + BigP[i+1][j+1]\n",
    "            SmallP[i][j] = BigP[i][j+1] / BigP[i][j]\n",
    "            S[i][j] = (SmallP[i][j] * S[i][j+1] + (1.0 - SmallP[i][j]) * S[i+1][j+1]) * np.exp(-r * dt)\n",
    "            i += 1\n",
    "        j -= 1\n",
    "\n",
    "    # Compute terminal payoffs\n",
    "    EC[:, n] = np.maximum(S[:, n] - K, 0.0)\n",
    "    AC[:, n] = np.maximum(S[:, n] - K, 0.0)\n",
    "    EP[:, n] = np.maximum(K - S[:, n], 0.0)\n",
    "    AP[:, n] = np.maximum(K - S[:, n], 0.0)\n",
    "\n",
    "    # Backward recursion through the tree\n",
    "    j = n-1\n",
    "    while j >= 0:\n",
    "        i = 0\n",
    "        while i <= j:\n",
    "            Pr = SmallP[i][j]\n",
    "            EC[i][j] = np.exp(-r * dt) * (Pr * (EC[i][j+1]) + (1-Pr) * (EC[i+1][j+1]))\n",
    "            EP[i][j] = np.exp(-r * dt) * (Pr * (EP[i][j+1]) + (1-Pr) * (EP[i+1][j+1]))\n",
    "            AC[i][j] = max(S[i][j] - K, np.exp(-r * dt) * (Pr * (AC[i][j+1]) + (1 - Pr) * (AC[i+1][j+1])))\n",
    "            AP[i][j] = max(K - S[i][j], np.exp(-r * dt) * (Pr * (AP[i][j+1]) + (1 - Pr) * (AP[i+1][j+1])))\n",
    "            i += 1\n",
    "        j -= 1\n",
    "    \n",
    "    return EC, AC, EP, AP"
   ]
  },
  {
   "cell_type": "code",
   "execution_count": 12,
   "id": "2855b125",
   "metadata": {},
   "outputs": [],
   "source": [
    "def edgeworth_european_call(S, K, r, T, v, skew, kurt, n):\n",
    "    EC, _, _, _ = edgeworth_binomial_tree(S, K, r, T, v, skew, kurt, n)\n",
    "    return EC[0][0]\n",
    "\n",
    "\n",
    "def edgeworth_american_call(S, K, r, T, v, skew, kurt, n):\n",
    "    _, AC, _, _ = edgeworth_binomial_tree(S, K, r, T, v, skew, kurt, n)\n",
    "    return AC[0][0]\n",
    "\n",
    "\n",
    "def edgeworth_european_put(S, K, r, T, v, skew, kurt, n):\n",
    "    _, _, EP, _ = edgeworth_binomial_tree(S, K, r, T, v, skew, kurt, n)\n",
    "    return EP[0][0]\n",
    "\n",
    "\n",
    "def edgeworth_american_put(S, K, r, T, v, skew, kurt, n):\n",
    "    _, _, _, AP = edgeworth_binomial_tree(S, K, r, T, v, skew, kurt, n)\n",
    "    return AP[0][0]\n"
   ]
  },
  {
   "cell_type": "markdown",
   "id": "e979b0d1",
   "metadata": {},
   "source": [
    "Price an example set of options."
   ]
  },
  {
   "cell_type": "code",
   "execution_count": 13,
   "id": "33b56107",
   "metadata": {},
   "outputs": [
    {
     "name": "stdout",
     "output_type": "stream",
     "text": [
      "The price of a European Call is 6.001063190311885\n",
      "The price of a American Call is 6.044359179586465\n",
      "The price of a European Put  is 0.3838109910201844\n",
      "The price of a American Put  is 0.39060306423802765\n"
     ]
    }
   ],
   "source": [
    "S = 30.0  # S price\n",
    "K = 25.0  # Strike price\n",
    "r = 0.05 # Interest rate\n",
    "T = 0.5  # Maturity\n",
    "v = 0.3  # Volatility\n",
    "skew = 1.0  # Skewness\n",
    "kurt = 3.0  # Kurtosis\n",
    "n = int(100.0)  # Number of time steps\n",
    "\n",
    "ec = edgeworth_european_call(S, K, r, T, v, skew, kurt, n)\n",
    "ac = edgeworth_american_call(S, K, r, T, v, skew, kurt, n)\n",
    "ep = edgeworth_european_put(S, K, r, T, v, skew, kurt, n)\n",
    "ap = edgeworth_american_put(S, K, r, T, v, skew, kurt, n)\n",
    "\n",
    "print(f\"The price of a European Call is {ec}\")\n",
    "print(f\"The price of a American Call is {ac}\")\n",
    "print(f\"The price of a European Put  is {ep}\")\n",
    "print(f\"The price of a American Put  is {ap}\")"
   ]
  },
  {
   "cell_type": "markdown",
   "id": "00db662d",
   "metadata": {},
   "source": [
    "Plot the relationship between skew and the price of a european call option."
   ]
  },
  {
   "cell_type": "code",
   "execution_count": 23,
   "id": "1d88b5fe",
   "metadata": {},
   "outputs": [],
   "source": [
    "prices = []\n",
    "skews = [i / 10 for i in range(1, 31)]\n",
    "\n",
    "for skew in skews:\n",
    "    ec = edgeworth_european_call(S, K, r, T, v, skew, kurt, n)\n",
    "    prices.append(ec)"
   ]
  },
  {
   "cell_type": "code",
   "execution_count": 24,
   "id": "8483ae8a",
   "metadata": {},
   "outputs": [
    {
     "data": {
      "text/plain": [
       "<AxesSubplot:>"
      ]
     },
     "execution_count": 24,
     "metadata": {},
     "output_type": "execute_result"
    },
    {
     "data": {
      "image/png": "[encoded data removed]",
      "text/plain": [
       "<Figure size 432x288 with 1 Axes>"
      ]
     },
     "metadata": {
      "needs_background": "light"
     },
     "output_type": "display_data"
    }
   ],
   "source": [
    "pd.DataFrame(prices).plot()"
   ]
  },
  {
   "cell_type": "code",
   "execution_count": null,
   "id": "b5a54c1e",
   "metadata": {},
   "outputs": [],
   "source": []
  }
 ],
 "metadata": {
  "kernelspec": {
   "display_name": "Python 3 (ipykernel)",
   "language": "python",
   "name": "python3"
  },
  "language_info": {
   "codemirror_mode": {
    "name": "ipython",
    "version": 3
   },
   "file_extension": ".py",
   "mimetype": "text/x-python",
   "name": "python",
   "nbconvert_exporter": "python",
   "pygments_lexer": "ipython3",
   "version": "3.9.13"
  }
 },
 "nbformat": 4,
 "nbformat_minor": 5
}
