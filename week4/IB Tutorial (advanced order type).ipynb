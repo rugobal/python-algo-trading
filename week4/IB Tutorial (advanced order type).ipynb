{
 "cells": [
  {
   "cell_type": "markdown",
   "id": "fef10ad2",
   "metadata": {},
   "source": [
    "### Buy AAPL when GOOG rallies 5% in the last 5 minutes\n",
    "\n",
    "This is a good example of a quantitative trading strategy. Since we expect AAPL and GOOG to move together, we want to buy AAPL when GOOG rallies.\n",
    "\n",
    "You want to track GOOG’s price and execute an order in AAPL. To do this, subscribe to GOOG’s tick data and store it in a DataFrame. Then you can submit an order.\n",
    "\n",
    "Start with the imports."
   ]
  },
  {
   "cell_type": "code",
   "execution_count": 1,
   "id": "9add7360",
   "metadata": {},
   "outputs": [],
   "source": [
    "import pandas as pd\n",
    "import threading\n",
    "import time\n",
    "\n",
    "from ibapi.client import EClient\n",
    "from ibapi.wrapper import EWrapper\n",
    "from ibapi.contract import Contract\n",
    "from ibapi.order import *"
   ]
  },
  {
   "cell_type": "markdown",
   "id": "f4993fe8",
   "metadata": {},
   "source": [
    "In the class that creates the IB app, we include a dictionary to store GOOG’s data. "
   ]
  },
  {
   "cell_type": "code",
   "execution_count": 2,
   "id": "3f9db626",
   "metadata": {},
   "outputs": [],
   "source": [
    "class IBapi(EWrapper, EClient):\n",
    "    def __init__(self):\n",
    "        EClient.__init__(self, self)\n",
    "        self.bardata = {}  # Initialize dictionary to store bar data\n",
    "\n",
    "    def nextValidId(self, orderId: int):\n",
    "        super().nextValidId(orderId)\n",
    "        self.nextorderId = orderId\n",
    "        print(\"The next valid order id is: \", self.nextorderId)\n",
    "\n",
    "    def tick_df(self, reqId, contract):\n",
    "        \"\"\"custom function to init DataFrame and request Tick Data\"\"\"\n",
    "        self.bardata[reqId] = pd.DataFrame(columns=[\"time\", \"price\"])\n",
    "        self.bardata[reqId].set_index(\"time\", inplace=True)\n",
    "        self.reqTickByTickData(reqId, contract, \"Last\", 0, True)\n",
    "        return self.bardata[reqId]\n",
    "\n",
    "    def tickByTickAllLast(\n",
    "        self,\n",
    "        reqId,\n",
    "        tickType,\n",
    "        time,\n",
    "        price,\n",
    "        size,\n",
    "        tickAtrribLast,\n",
    "        exchange,\n",
    "        specialConditions,\n",
    "    ):\n",
    "        if tickType == 1:\n",
    "            self.bardata[reqId].loc[pd.to_datetime(time, unit=\"s\")] = price\n",
    "\n",
    "    def stock_contract(\n",
    "        self,\n",
    "        symbol,\n",
    "        secType='STK',\n",
    "        exchange='SMART',\n",
    "        currency='USD'\n",
    "    ):\n",
    "        # create a stock contract\n",
    "        contract = Contract()\n",
    "        contract.symbol = symbol\n",
    "        contract.secType = secType\n",
    "        contract.exchange = exchange\n",
    "        contract.currency = currency\n",
    "\n",
    "        return contract"
   ]
  },
  {
   "cell_type": "markdown",
   "id": "002ccab5",
   "metadata": {},
   "source": [
    "The class has a custom function called `tick_df`. This function creates a DataFrame and adds it to the dictionary you created. It then populates the DataFrame with data. If you’re wondering where I define `reqTickByTickData`, it’s from the `EClient` class. Calling this function starts the data stream. Finally, the `tickByTickAllLast` function returns the last price. \n",
    "\n",
    "The code in `tickByTickAllLast` comes from pandas. The `.loc` method specifies the row and column that we want to insert data into. This line inserts the last price into a row. That row’s index is the current timestamp.\n",
    "\n",
    "Finally, add the `stock_contract` function into the class. Don’t forget to add `self` as the first argument.\n",
    "\n",
    "Next, create the function to start the app and submit an order."
   ]
  },
  {
   "cell_type": "code",
   "execution_count": 3,
   "id": "a45310d0",
   "metadata": {},
   "outputs": [],
   "source": [
    "def run_loop():\n",
    "    app.run()\n",
    "\n",
    "\n",
    "def submit_order(\n",
    "    contract, \n",
    "    direction, \n",
    "    qty=100, \n",
    "    ordertype=\"MKT\", \n",
    "    transmit=True\n",
    "):\n",
    "    # Create order object\n",
    "    order = Order()\n",
    "    order.action = direction\n",
    "    order.totalQuantity = qty\n",
    "    order.orderType = ordertype\n",
    "    order.transmit = transmit\n",
    "    order.eTradeOnly = \"\"\n",
    "    order.firmQuoteOnly = \"\"\n",
    "    # submit order\n",
    "    app.placeOrder(app.nextorderId, contract, order)\n",
    "    app.nextorderId += 1\n",
    "\n",
    "\n",
    "def check_for_trade(df, contract):\n",
    "    start_time = df.index[-1] - pd.Timedelta(minutes=5)\n",
    "    min_value = df[start_time:].price.min()\n",
    "    max_value = df[start_time:].price.max()\n",
    "\n",
    "    if df.price.iloc[-1] < max_value * 0.95:\n",
    "        submit_order(contract, \"SELL\")\n",
    "        return True\n",
    "\n",
    "    elif df.price.iloc[-1] > min_value * 1.05:\n",
    "        submit_order(contract, \"BUY\")\n",
    "        return True"
   ]
  },
  {
   "cell_type": "markdown",
   "id": "4a5e8d1a",
   "metadata": {},
   "source": [
    "The `check_for_trade` function is where the logic is. It decides whether a trade is made or not. It takes the last price and subtracts five minutes from the time we received it. Use the `min()` and `max()` functions from pandas to determine the high and low over the last five minutes.\n",
    "\n",
    "With those values, it checks if the current price is 5% greater than or less than the min or max. If so, the function submits an order and returns `True` to let you know the order was sent.\n",
    "\n",
    "Next, run the algorithm."
   ]
  },
  {
   "cell_type": "code",
   "execution_count": 4,
   "id": "c5201051",
   "metadata": {},
   "outputs": [
    {
     "name": "stderr",
     "output_type": "stream",
     "text": [
      "ERROR -1 2104 Market data farm connection is OK:uscrypto\n",
      "ERROR -1 2104 Market data farm connection is OK:eufarm\n",
      "ERROR -1 2104 Market data farm connection is OK:usopt\n",
      "ERROR -1 2104 Market data farm connection is OK:usfarm\n",
      "ERROR -1 2106 HMDS data farm connection is OK:ushmds\n",
      "ERROR -1 2158 Sec-def data farm connection is OK:secdefil\n"
     ]
    },
    {
     "name": "stdout",
     "output_type": "stream",
     "text": [
      "waiting for connection\n",
      "The next valid order id is:  2\n",
      "connected\n"
     ]
    }
   ],
   "source": [
    "app = IBapi()\n",
    "app.nextorderId = None\n",
    "app.connect(\"127.0.0.1\", 7496, 123)\n",
    "\n",
    "\n",
    "api_thread = threading.Thread(target=run_loop)\n",
    "api_thread.start()\n",
    "\n",
    "\n",
    "while True:\n",
    "    if isinstance(app.nextorderId, int):\n",
    "        print(\"connected\")\n",
    "        break\n",
    "    else:\n",
    "        print(\"waiting for connection\")\n",
    "        time.sleep(1)\n",
    "\n",
    "\n",
    "goog = app.stock_contract(\"GOOG\")\n",
    "aapl = app.stock_contract(\"AAPL\")"
   ]
  },
  {
   "cell_type": "markdown",
   "id": "0d0fd9a2",
   "metadata": {},
   "source": [
    "Create the app and connect to IB. Then check that the API is connected. Finally, use our custom functions to create GOOG and AAPL contracts.\n",
    "\n",
    "Next, we get market data for GOOG. Then we check that the data is flowing. At this point, we have the data but we need five minutes of history to run the algorithm. Subtracting two timestamps from each other returns a timedelta object. timedelta has a seconds method which gives us the number of seconds between two times. We need at least 5 minutes, or 300 seconds, worth of data. So we will put the script to sleep for 300 seconds minus whatever time has already elapsed."
   ]
  },
  {
   "cell_type": "code",
   "execution_count": null,
   "id": "03d46df1",
   "metadata": {},
   "outputs": [],
   "source": [
    "df = app.tick_df(401, goog)\n",
    "\n",
    "\n",
    "time.sleep(10)\n",
    "for i in range(100):\n",
    "    if len(df) > 0:\n",
    "        break\n",
    "    time.sleep(0.3)\n",
    "\n",
    "\n",
    "if i == 99:\n",
    "    app.disconnect()\n",
    "    raise Exception(\"Error with Tick data stream\")\n",
    "\n",
    "\n",
    "data_length = df.index[-1] - df.index[0]\n",
    "if data_length.seconds < 300:\n",
    "    time.sleep(300 - data_length.seconds)"
   ]
  },
  {
   "cell_type": "markdown",
   "id": "fb5d0437",
   "metadata": {},
   "source": [
    "Now, find trades!"
   ]
  },
  {
   "cell_type": "code",
   "execution_count": null,
   "id": "797b66f5",
   "metadata": {},
   "outputs": [],
   "source": [
    "while True:\n",
    "    if check_for_trade(df, aapl):\n",
    "        break\n",
    "    time.sleep(0.1)\n",
    "\n",
    "app.disconnect()"
   ]
  },
  {
   "cell_type": "markdown",
   "id": "bd8f5194",
   "metadata": {},
   "source": [
    "This runs on an infinite loop. If a trade is found (remember `check_for_trade` returns `True`) then exit the loop. Otherwise, wait 100 milliseconds and check again."
   ]
  },
  {
   "cell_type": "code",
   "execution_count": null,
   "id": "2ac8f87a",
   "metadata": {},
   "outputs": [],
   "source": []
  }
 ],
 "metadata": {
  "kernelspec": {
   "display_name": "quant_lab",
   "language": "python",
   "name": "python3"
  },
  "language_info": {
   "codemirror_mode": {
    "name": "ipython",
    "version": 3
   },
   "file_extension": ".py",
   "mimetype": "text/x-python",
   "name": "python",
   "nbconvert_exporter": "python",
   "pygments_lexer": "ipython3",
   "version": "3.9.16"
  },
  "vscode": {
   "interpreter": {
    "hash": "e39d826b5d0f38f64bba06fdc98129bec1411f7c61e1677ca61004075e422b6f"
   }
  }
 },
 "nbformat": 4,
 "nbformat_minor": 5
}
