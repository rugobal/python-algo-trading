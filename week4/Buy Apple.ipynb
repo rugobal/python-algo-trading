{
 "cells": [
  {
   "cell_type": "code",
   "execution_count": 6,
   "metadata": {},
   "outputs": [],
   "source": [
    "from ibapi.client import EClient\n",
    "from ibapi.wrapper import EWrapper\n",
    "from ibapi.contract import Contract\n",
    "from ibapi.order import *\n",
    "\n",
    "import threading\n",
    "import time"
   ]
  },
  {
   "attachments": {},
   "cell_type": "markdown",
   "metadata": {},
   "source": [
    "This class creates the app. The app is what you use to interact with IB.\n",
    "\n",
    "This class inherits two classes from the IB API. If this doesn’t make sense, don’t worry. The API needs an order ID associated with every order. nextValidId"
   ]
  },
  {
   "cell_type": "code",
   "execution_count": 7,
   "metadata": {},
   "outputs": [],
   "source": [
    "class IBapi(EWrapper, EClient):\n",
    "    def __init__(self):\n",
    "        EClient.__init__(self, self)\n",
    "\n",
    "    def nextValidId(self, orderId: int):\n",
    "        super().nextValidId(orderId)\n",
    "        self.nextorderId = orderId\n",
    "        print(\"The next valid order id is: \", self.nextorderId)\n",
    "\n",
    "    def orderStatus(\n",
    "        self,\n",
    "        orderId,\n",
    "        status,\n",
    "        filled,\n",
    "        remaining,\n",
    "        avgFullPrice,\n",
    "        permId,\n",
    "        parentId,\n",
    "        lastFillPrice,\n",
    "        clientId,\n",
    "        whyHeld,\n",
    "        mktCapPrice,\n",
    "    ):\n",
    "        print(\n",
    "            \"orderStatus - orderid:\",\n",
    "            orderId,\n",
    "            \"status:\",\n",
    "            status,\n",
    "            \"filled\",\n",
    "            filled,\n",
    "            \"remaining\",\n",
    "            remaining,\n",
    "            \"lastFillPrice\",\n",
    "            lastFillPrice,\n",
    "        )\n",
    "\n",
    "    def openOrder(self, orderId, contract, order, orderState):\n",
    "        print(\n",
    "            \"openOrder id:\",\n",
    "            orderId,\n",
    "            contract.symbol,\n",
    "            contract.secType,\n",
    "            \"@\",\n",
    "            contract.exchange,\n",
    "            \":\",\n",
    "            order.action,\n",
    "            order.orderType,\n",
    "            order.totalQuantity,\n",
    "            orderState.status,\n",
    "        )\n",
    "\n",
    "    def execDetails(self, reqId, contract, execution):\n",
    "        print(\n",
    "            \"Order Executed: \",\n",
    "            reqId,\n",
    "            contract.symbol,\n",
    "            contract.secType,\n",
    "            contract.currency,\n",
    "            execution.execId,\n",
    "            execution.orderId,\n",
    "            execution.shares,\n",
    "            execution.lastLiquidity,\n",
    "        )"
   ]
  },
  {
   "attachments": {},
   "cell_type": "markdown",
   "metadata": {},
   "source": [
    "Next, create a function to run the app. Then, define a stock contract (IB calls everything a contract)."
   ]
  },
  {
   "cell_type": "code",
   "execution_count": 8,
   "metadata": {},
   "outputs": [],
   "source": [
    "def run_loop():\n",
    "    app.run()\n",
    "\n",
    "def stock_contract(\n",
    "    symbol,\n",
    "    secType='STK',\n",
    "    exchange='SMART',\n",
    "    currency='USD'\n",
    "):\n",
    "    # create a stock contract\n",
    "    contract = Contract()\n",
    "    contract.symbol = symbol\n",
    "    contract.secType = secType\n",
    "    contract.exchange = exchange\n",
    "    contract.currency = currency\n",
    "\n",
    "    return contract"
   ]
  },
  {
   "attachments": {},
   "cell_type": "markdown",
   "metadata": {},
   "source": [
    "Now that the setup is out of the way, make the connection and start a thread. The while loop checks if the API is connected. If it is, app.nextorderId returns an int. Otherwise it returns None."
   ]
  },
  {
   "cell_type": "code",
   "execution_count": 19,
   "metadata": {},
   "outputs": [
    {
     "name": "stderr",
     "output_type": "stream",
     "text": [
      "ERROR -1 2104 Market data farm connection is OK:usfarm.nj\n",
      "ERROR -1 2104 Market data farm connection is OK:usfuture\n",
      "ERROR -1 2104 Market data farm connection is OK:cashfarm\n",
      "ERROR -1 2104 Market data farm connection is OK:usopt\n",
      "ERROR -1 2104 Market data farm connection is OK:eufarmnj\n",
      "ERROR -1 2104 Market data farm connection is OK:usfarm\n",
      "ERROR -1 2106 HMDS data farm connection is OK:ushmds.nj\n",
      "ERROR -1 2106 HMDS data farm connection is OK:ushmds\n",
      "ERROR -1 2158 Sec-def data farm connection is OK:secdefil\n"
     ]
    },
    {
     "name": "stdout",
     "output_type": "stream",
     "text": [
      "waiting for connection\n",
      "The next valid order id is:  4\n",
      "connected\n"
     ]
    }
   ],
   "source": [
    "app = IBapi()\n",
    "app.connect('winhost', 7497, 123)\n",
    "\n",
    "app.nextorderId = None\n",
    "\n",
    "api_thread = threading.Thread(target=run_loop, daemon=True)\n",
    "api_thread.start()\n",
    "\n",
    "while True:\n",
    "    if isinstance(app.nextorderId, int):\n",
    "        print('connected')\n",
    "        break\n",
    "    else:\n",
    "        print('waiting for connection')\n",
    "        time.sleep(1)"
   ]
  },
  {
   "attachments": {},
   "cell_type": "markdown",
   "metadata": {},
   "source": [
    "The next step is to create an order and send it to IB. This is where the core logic of your algorithm lives. In this case, I keep it simple and just buy 10 shares of AAPL. IB expects the order to be a Python object with buy or sell, the quantity, and order type. Because I send a limit order, I set the limit price too. Finally, I send the order, wait three seconds, cancel it for the sake of this demo, wait three more seconds, then disconnect the app.\n"
   ]
  },
  {
   "cell_type": "code",
   "execution_count": 20,
   "metadata": {},
   "outputs": [
    {
     "name": "stdout",
     "output_type": "stream",
     "text": [
      "openOrder id: 4 AAPL STK @ SMART : BUY LMT 10 Submitted\n",
      "orderStatus - orderid: 4 status: Submitted filled 0 remaining 10 lastFillPrice 0.0\n"
     ]
    },
    {
     "name": "stderr",
     "output_type": "stream",
     "text": [
      "ERROR 4 202 Order Canceled - reason:\n"
     ]
    },
    {
     "name": "stdout",
     "output_type": "stream",
     "text": [
      "cancelling order\n",
      "orderStatus - orderid: 4 status: Cancelled filled 0 remaining 10 lastFillPrice 0.0\n"
     ]
    }
   ],
   "source": [
    "order = Order()\n",
    "order.action = \"BUY\"\n",
    "order.totalQuantity = 10\n",
    "order.orderType = \"LMT\"\n",
    "order.lmtPrice = \"130.00\"\n",
    "\n",
    "app.placeOrder(app.nextorderId, stock_contract(\"AAPL\"), order)\n",
    "\n",
    "# uncomment if you are sending more than one order\n",
    "#app.nextorderId += 1\n",
    "\n",
    "time.sleep(10)\n",
    "\n",
    "# cancel the order for the demo\n",
    "print('cancelling order')\n",
    "app.cancelOrder(app.nextorderId, \"\")\n",
    "\n",
    "time.sleep(3)\n",
    "app.disconnect()"
   ]
  },
  {
   "attachments": {},
   "cell_type": "markdown",
   "metadata": {},
   "source": [
    "When I run the script, the order is sent to IB and cancelled three seconds later"
   ]
  }
 ],
 "metadata": {
  "kernelspec": {
   "display_name": "quant_lab",
   "language": "python",
   "name": "python3"
  },
  "language_info": {
   "codemirror_mode": {
    "name": "ipython",
    "version": 3
   },
   "file_extension": ".py",
   "mimetype": "text/x-python",
   "name": "python",
   "nbconvert_exporter": "python",
   "pygments_lexer": "ipython3",
   "version": "3.9.16"
  },
  "orig_nbformat": 4,
  "vscode": {
   "interpreter": {
    "hash": "e39d826b5d0f38f64bba06fdc98129bec1411f7c61e1677ca61004075e422b6f"
   }
  }
 },
 "nbformat": 4,
 "nbformat_minor": 2
}
