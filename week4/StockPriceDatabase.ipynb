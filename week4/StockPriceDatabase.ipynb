{
 "cells": [
  {
   "cell_type": "markdown",
   "id": "8139ef7b",
   "metadata": {},
   "source": [
    "# How To Build An Automated Quant Database\n"
   ]
  },
  {
   "cell_type": "markdown",
   "id": "bc667ac5",
   "metadata": {},
   "source": [
    "All quants work with data to analyze the markets. Most of them have internal databases. Hedge funds and banks like Jane Street, Man Group, and Goldman Sachs have teams of people managing data.\n",
    "\n",
    "Building your own stock price database is important if you want to combine data to analyze the markets. Putting stock prices, economic trends, and custom analytics in a database helps you research the markets faster.\n",
    "\n"
   ]
  },
  {
   "cell_type": "markdown",
   "id": "f1f7decb",
   "metadata": {},
   "source": [
    "## Data Drives The Markets\n"
   ]
  },
  {
   "cell_type": "markdown",
   "id": "e6e5f643",
   "metadata": {},
   "source": [
    "With the explosion of free market data, there’s never been a better time to start storing it. Once you have it, combine it, transform it, and analyze it in any way you want.\n",
    "\n",
    "Here's what we'll do:\n",
    "\n",
    "- Use SQLite to build a database\n",
    "- Download stock data for free\n",
    "- Store the data in a database\n",
    "- Run it all automatically"
   ]
  },
  {
   "cell_type": "markdown",
   "id": "def4d533",
   "metadata": {},
   "source": [
    "### A Quick Note\n",
    "\n",
    "In today’s issue, I use a Python script. By using a script, I can automatically download data using Task Manager (Windows) or CRON (Mac/Linux).\n",
    "\n",
    "Open your favorite code editor and create a Python file called market_data.py."
   ]
  },
  {
   "cell_type": "markdown",
   "id": "4a64cb91",
   "metadata": {},
   "source": [
    "## Step 1: Import The Libraries\n"
   ]
  },
  {
   "cell_type": "markdown",
   "id": "d9bbfe3d",
   "metadata": {},
   "source": [
    "Start by importing the libraries. I like to use yfinance to get stock data. I use SQLite as a database you can store on your computer. It’s an efficient file-based database which makes it perfect for building research tools. It uses standard SQL so you can easily move to a different database like MySQL or Postgres.\n",
    "\n",
    "To create the database, you need to import the SQLite library. You can use pandas to interact directly with the database.\n",
    "\n"
   ]
  },
  {
   "cell_type": "code",
   "execution_count": 10,
   "id": "db89dfe2",
   "metadata": {},
   "outputs": [],
   "source": [
    "from sys import argv\n",
    "\n",
    "import pandas as pd\n",
    "import sqlite3\n",
    "\n",
    "from openbb_terminal.sdk import openbb"
   ]
  },
  {
   "cell_type": "code",
   "execution_count": 11,
   "id": "2a946bab",
   "metadata": {},
   "outputs": [],
   "source": [
    "con = sqlite3.connect(\"market_data.sqlite\")"
   ]
  },
  {
   "cell_type": "markdown",
   "id": "cbb63cb8",
   "metadata": {},
   "source": [
    "## Step 2: Download And Store Stock Price Data\n",
    "\n",
    "The script you are building will do two things:\n",
    "\n",
    "1. Save data within a date range\n",
    "2. Save data for the last trading day\n",
    "\n",
    "To make it easy, create three functions to download the data, save data within a range, and save data for the last trading day.\n",
    "\n",
    "First, create a function that downloads data"
   ]
  },
  {
   "cell_type": "code",
   "execution_count": 12,
   "id": "b6ff12db",
   "metadata": {},
   "outputs": [],
   "source": [
    "def get_stock_data(symbol, start, end):\n",
    "    df = openbb.stocks.load(symbol, start_date=start, end_date=end)\n",
    "    data.reset_index(inplace=True)\n",
    "    data.rename(columns={\n",
    "        \"Date\": \"date\",\n",
    "        \"Open\": \"open\",\n",
    "        \"Low\": \"low\",\n",
    "        \"Close\": \"close\",\n",
    "        \"Adj Close\": \"adj_close\",\n",
    "        \"Volume\": \"volume\"\n",
    "    }, inplace=True)\n",
    "    data['symbol'] = symbol\n",
    "    return data\n"
   ]
  },
  {
   "cell_type": "markdown",
   "id": "bc06cc7d",
   "metadata": {},
   "source": [
    "The function uses yfinance to download data. Then it converts the date to a column, renames the columns, adds the symbol, and returns a DataFrame. Add the symbol so you can save more than one stock in the same table.\n",
    "\n",
    "Next, create a function that uses get_stock_data to get stock data and saves it into the database."
   ]
  },
  {
   "cell_type": "code",
   "execution_count": 13,
   "id": "4202b7bb",
   "metadata": {},
   "outputs": [],
   "source": [
    "def save_data_range(symbol, start, end):\n",
    "    data = get_stock_data(symbol, start, end)\n",
    "    data.to_sql(\n",
    "        \"stock_data\", \n",
    "        con, \n",
    "        if_exists=\"append\", \n",
    "        index=False\n",
    "    )"
   ]
  },
  {
   "cell_type": "markdown",
   "id": "5ac3fbf7",
   "metadata": {},
   "source": [
    "The function uses pandas to save the data in the DataFrame into the database. Finally, create a function that saves the last trading day’s data into the database."
   ]
  },
  {
   "cell_type": "code",
   "execution_count": 14,
   "id": "1cb21f9d",
   "metadata": {},
   "outputs": [],
   "source": [
    "def save_last_trading_session(symbol):\n",
    "    today = pd.Timestamp.today()\n",
    "    data = get_stock_data(symbol, today, today)\n",
    "    data.to_sql(\n",
    "        \"stock_data\", \n",
    "        con, \n",
    "        if_exists=\"append\", \n",
    "        index=False\n",
    "    )"
   ]
  },
  {
   "cell_type": "markdown",
   "id": "5c5bbc4e",
   "metadata": {},
   "source": [
    "This function grabs data from today and inserts it into the database."
   ]
  },
  {
   "cell_type": "markdown",
   "id": "b9410d9e",
   "metadata": {},
   "source": [
    "I want to run this script automatically. Before I do, I need to add some code to run it from the command line."
   ]
  },
  {
   "cell_type": "code",
   "execution_count": 15,
   "id": "bda3293e",
   "metadata": {},
   "outputs": [
    {
     "name": "stdout",
     "output_type": "stream",
     "text": [
      "Enter bulk or last\n"
     ]
    }
   ],
   "source": [
    "if __name__ == \"__main__\":\n",
    "    # usage example for bulk insert\n",
    "    #     python market_data.py bulk SPY 2022-01-01 2022-10-20\n",
    "    # usage example for last session\n",
    "    #     python market_aata.py last SPY\n",
    "\n",
    "    con = sqlite3.connect(\"market_data.sqlite\")\n",
    "\n",
    "    if argv[1] == \"bulk\":\n",
    "        symbol = argv[2]\n",
    "        start = argv[3]\n",
    "        end = argv[4]\n",
    "        save_data_range(symbol, start, end, con)\n",
    "        print(f\"{symbol} saved between {start} and {end}\")\n",
    "    elif argv[1] == \"last\":\n",
    "        symbol = argv[2]\n",
    "        save_last_trading_session(symbol, con)\n",
    "        print(f\"{symbol} saved\")\n",
    "    else:\n",
    "        print(\"Enter bulk or last\")"
   ]
  },
  {
   "cell_type": "markdown",
   "id": "3bc191dc",
   "metadata": {},
   "source": [
    "The comments have examples of how to run the code at the command line.\n",
    "\n",
    "The code in your file should look like this."
   ]
  },
  {
   "cell_type": "code",
   "execution_count": 16,
   "id": "d334da9b",
   "metadata": {},
   "outputs": [
    {
     "name": "stdout",
     "output_type": "stream",
     "text": [
      "Enter bulk or last\n"
     ]
    }
   ],
   "source": [
    "from sys import argv\n",
    "\n",
    "import pandas as pd\n",
    "import yfinance as yf\n",
    "import sqlite3\n",
    "\n",
    "\n",
    "def get_stock_data(symbol, start, end):\n",
    "    data = yf.download(symbol, start=start, end=end)\n",
    "    data.reset_index(inplace=True)\n",
    "    data.rename(columns={\n",
    "        \"Date\": \"date\",\n",
    "        \"Open\": \"open\",\n",
    "        \"Low\": \"low\",\n",
    "        \"Close\": \"close\",\n",
    "        \"Adj Close\": \"adj_close\",\n",
    "        \"Volume\": \"volume\"\n",
    "    }, inplace=True)\n",
    "    data['symbol'] = symbol\n",
    "    return data\n",
    "\n",
    "def save_data_range(symbol, start, end, con):\n",
    "    data = get_stock_data(symbol, start, end)\n",
    "    data.to_sql(\n",
    "        \"stock_data\", \n",
    "        con, \n",
    "        if_exists=\"append\", \n",
    "        index=False\n",
    "    )\n",
    "\n",
    "def save_last_trading_session(symbol, con):\n",
    "    today = pd.Timestamp.today()\n",
    "    data = get_stock_data(symbol, today, today)\n",
    "    data.to_sql(\n",
    "        \"stock_data\", \n",
    "        con, \n",
    "        if_exists=\"append\", \n",
    "        index=False\n",
    "    )\n",
    "\n",
    "if __name__ == \"__main__\":\n",
    "    # usage example for bulk insert\n",
    "    #     python market_data.py bulk SPY 2022-01-01 2022-10-20\n",
    "    # usage example for last session\n",
    "    #     python market_aata.py last SPY\n",
    "\n",
    "    con = sqlite3.connect(\"market_data.sqlite\")\n",
    "\n",
    "    if argv[1] == \"bulk\":\n",
    "        symbol = argv[2]\n",
    "        start = argv[3]\n",
    "        end = argv[4]\n",
    "        save_data_range(symbol, start, end, con)\n",
    "        print(f\"{symbol} saved between {start} and {end}\")\n",
    "    elif argv[1] == \"last\":\n",
    "        symbol = argv[2]\n",
    "        save_last_trading_session(symbol, con)\n",
    "        print(f\"{symbol} saved\")\n",
    "    else:\n",
    "        print(\"Enter bulk or last\")"
   ]
  },
  {
   "cell_type": "markdown",
   "id": "f5e76da9",
   "metadata": {},
   "source": [
    "Remember, to use this code, you need to run it in the terminal."
   ]
  },
  {
   "cell_type": "markdown",
   "id": "ebb41151",
   "metadata": {},
   "source": [
    "## Step 3: Automate Your Script\n",
    "\n",
    "The best way to build your database is to first download history. You do this once to “backfill” the historic data. Then you schedule the script to run every trading day after the market close to capture that day’s data going forward.\n",
    "\n",
    "There are a lot of references to schedule a Python job on Mac and Windows so I won’t cover it in detail here.\n",
    "\n",
    "Here are two that will work:\n",
    "\n",
    "1. [Schedule on Mac/Linux](http://theautomatic.net/2020/11/18/how-to-schedule-a-python-script-on-a-mac/)\n",
    "2. [Schedule on Windows](https://www.jcchouinard.com/python-automation-using-task-scheduler/)\n"
   ]
  },
  {
   "cell_type": "markdown",
   "id": "f720cead",
   "metadata": {},
   "source": [
    "## Bonus: Query The SQLite Database With Pandas In A Jupyter Notebook\n",
    "\n",
    "To get data out of the database, create a Jupyter Notebook in the same directory as the database file. Then you can write SQL as you would normally."
   ]
  },
  {
   "cell_type": "code",
   "execution_count": 17,
   "id": "e66b491a",
   "metadata": {},
   "outputs": [],
   "source": [
    "import sqlite3\n",
    "import pandas as pd"
   ]
  },
  {
   "cell_type": "code",
   "execution_count": 21,
   "id": "4486690f",
   "metadata": {},
   "outputs": [
    {
     "name": "stdout",
     "output_type": "stream",
     "text": [
      "[*********************100%***********************]  1 of 1 completed\n"
     ]
    }
   ],
   "source": [
    "save_data_range('SPY', '2020-01-01', '2022-06-30', con)"
   ]
  },
  {
   "cell_type": "code",
   "execution_count": 22,
   "id": "5a791c59",
   "metadata": {},
   "outputs": [],
   "source": [
    "# connect to the database\n",
    "con = sqlite3.connect(\"market_data.sqlite\")"
   ]
  },
  {
   "cell_type": "code",
   "execution_count": 25,
   "id": "f53dbbc1",
   "metadata": {},
   "outputs": [],
   "source": [
    "# simple select statement\n",
    "df_1 = pd.read_sql_query(\"SELECT * from stock_data where symbol='SPY'\", con)"
   ]
  },
  {
   "cell_type": "code",
   "execution_count": 26,
   "id": "d27e38c6",
   "metadata": {},
   "outputs": [],
   "source": [
    "# where statement\n",
    "df_2 = pd.read_sql_query(\"SELECT * from stock_data where symbol='SPY' and volume > 100000\", con)"
   ]
  },
  {
   "cell_type": "markdown",
   "id": "302b94ac",
   "metadata": {},
   "source": [
    "You can join with other tables, filter, and group in any way you want."
   ]
  },
  {
   "cell_type": "code",
   "execution_count": null,
   "id": "51037041",
   "metadata": {},
   "outputs": [],
   "source": []
  }
 ],
 "metadata": {
  "kernelspec": {
   "display_name": "Python 3 (ipykernel)",
   "language": "python",
   "name": "python3"
  },
  "language_info": {
   "codemirror_mode": {
    "name": "ipython",
    "version": 3
   },
   "file_extension": ".py",
   "mimetype": "text/x-python",
   "name": "python",
   "nbconvert_exporter": "python",
   "pygments_lexer": "ipython3",
   "version": "3.9.15"
  }
 },
 "nbformat": 4,
 "nbformat_minor": 5
}
