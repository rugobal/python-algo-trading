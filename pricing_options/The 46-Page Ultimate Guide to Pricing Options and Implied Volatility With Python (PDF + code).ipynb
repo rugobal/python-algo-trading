{
 "cells": [
  {
   "cell_type": "markdown",
   "metadata": {},
   "source": [
    "# The Ultimate Guide to Pricing Options and Implied Volatility With Python\n",
    "\n",
    "**By PyQuant News**\n",
    "\n",
    "Python is an important tool for quantitative and algorithmic trading and research.\n",
    "\n",
    "Maybe you're an options investor looking to improve your analysis. Or a Python developer interested in investing. \n",
    "\n",
    "I know quant traders making $1,000,000 per year using Python. I also know 18 year olds trading in their dorm rooms using Python. From data science to rocket science, Python is everywhere.\n",
    "\n",
    "I built this ebook based on my experience both trading and using Python.\n",
    "\n",
    "It covers pricing options and dives into computing and analyzing implied volatility.\n",
    "\n",
    "I only assume you want to learn how to analyze options with Python. While I cover some of the math, you don't need to know it for this ebook to be useful.\n",
    "\n",
    "You can use the code in this ebook anyway you want to: as is or dive deeper into the analysis.\n",
    "\n",
    "I'm glad you decided to invest time in learning with me!"
   ]
  },
  {
   "cell_type": "markdown",
   "metadata": {},
   "source": [
    "# Contents\n",
    "\n",
    "This ultimate guide has everything you need to price options with Python.\n",
    "\n",
    "* [Important Jargon](#Important-Jargon)\n",
    "* [What Are Options?](#What-Are-Options?)\n",
    "* [What Is the Black-Scholes Option Pricing Model?](#What-Is-the-Black-Scholes-Option-Pricing-Model?)\n",
    "* [(Some of) the Math](#(Some-of)-the-Math)\n",
    "* [Black-Scholes Formula in Python](#Black-Scholes-Formula-in-Python)\n",
    "* [The Greeks](#The-Greeks)\n",
    "* [The Greeks in Python](#The-Greeks-in-Python)\n",
    "* [Realized Volatility](#Realized-Volatility)\n",
    "* [Implied Volatility](#Implied-Volatility)\n",
    "* [Getting Real Options Market Data](#Getting-Real-Options-Market-Data)\n",
    "* [Applying Implied Volatility](#Applying-Implied-Volatility)\n",
    "* [Interpolating Missing and Bad Implied Volatility Values](#Interpolating-Missing-and-Bad-Implied-Volatility-Values)\n",
    "* [Applying Black-Scholes and the Greeks](#Applying-Black-Scholes-and-the-Greeks)\n",
    "* [Analyzing the Model Error](#Analyzing-the-Model-Error)\n",
    "* [Analyzing Implied Volatility](#Analyzing-Implied-Volatility)\n",
    "* [Conclusion](#Conclusion)\n",
    "* [References](#References)\n",
    "* [About Me](#About-Me)"
   ]
  },
  {
   "cell_type": "markdown",
   "metadata": {},
   "source": [
    "# Important Jargon\n",
    "\n",
    "Let's start with the vocabulary.\n",
    "\n",
    "## Terms to know\n",
    "\n",
    "* __Call option__. Derivative contract which conveys the right (not the obligation) to the buyer of the option to purchase the underlying stock at a specific price on a certain date (European style) or before a certain date (American style).\n",
    "\n",
    "* __Put option__. Derivative contract which conveys the right (not the obligation) to the buyer of the option to sell the underlying stock at a specific price on a certain date.\n",
    "\n",
    "* __In the money__. Condition where the stock price is greater than the strike price for a call option or lower than the strike price for a put option\n",
    "\n",
    "* __Out the money__. Opposite of in the money.\n",
    "\n",
    "* __At the money__. The stock price is equal to (or very near) the strike price. Usually considered the option with the strike price that is closest to the money.\n",
    "\n",
    "* __Realized volatility__. Also called statistical or historical volatility, this is usually the annualized standard deviation of the log returns of the underlying over a past whindow of time.\n",
    "\n",
    "* __Implied volatility__. Volatiltiy parameter that sets the pricing model equal to the market price of the option. (Much more on this later.)\n",
    "\n",
    "## Input parameters to price options\n",
    "\n",
    "Options priced with Black-Scholes have five input variables, four of which can be observed in the market and one of which is latent (unobservable, more on this later).\n",
    "\n",
    "* __Underlying stock price ($S$)__. Price of the underlying stock upon which the option derives its value.\n",
    "\n",
    "* __Strike price ($K$)__. The price at which the owner of the option can buy the underlying in the case of a call or sell the underlying in the case of a put.\n",
    "\n",
    "* __Time to expiration ($t$)__. Time (as a fraction of a 365 day year) until the expiration of the option.\n",
    "\n",
    "* __Risk free rate ($r$)__. So-called risk free rate (this is better described as the rate of interest you would earn in a riskless security over the holding period of the option)\n",
    "\n",
    "* __Volatility ($vol$)__. Volatility (or more usually implied volatility) is a latent value not actually observed in the market.\n",
    "\n",
    "Let's import our modules and declare these variables in Python for later use."
   ]
  },
  {
   "cell_type": "code",
   "execution_count": 1,
   "metadata": {},
   "outputs": [
    {
     "name": "stdout",
     "output_type": "stream",
     "text": [
      "Numpy 1.20.3\n",
      "Matplotlib 3.4.3\n",
      "Scipy 1.7.1\n",
      "Pandas 1.3.4\n"
     ]
    }
   ],
   "source": [
    "# magic function to plot inline\n",
    "%matplotlib inline\n",
    "\n",
    "# python standard modules\n",
    "import time\n",
    "import datetime as dt\n",
    "from math import sqrt, pi\n",
    "\n",
    "\n",
    "# import numpy, pyplot and scipy\n",
    "import numpy as np\n",
    "import pandas as pd\n",
    "from pandas_datareader.yahoo.options import Options\n",
    "from pandas_datareader.yahoo.daily import YahooDailyReader\n",
    "import matplotlib as mat\n",
    "\n",
    "mat.style.use(\"ggplot\")\n",
    "import matplotlib.pyplot as plt\n",
    "\n",
    "# for plotting the vol surface\n",
    "from mpl_toolkits.mplot3d import Axes3D\n",
    "import scipy\n",
    "from scipy.stats import norm\n",
    "from scipy.optimize import brentq\n",
    "from scipy.interpolate import interp1d\n",
    "\n",
    "print(\n",
    "    f\"Numpy {np.__version__}\\nMatplotlib {mat.__version__}\\nScipy {scipy.__version__}\\nPandas {pd.__version__}\"\n",
    ")"
   ]
  },
  {
   "cell_type": "markdown",
   "metadata": {},
   "source": [
    "# What Are Options?\n",
    "\n",
    "Options are standardized derivatives contracts that convey the buyer the right (but not obligation) to buy the underlying security in the case of a call option or sell the underlying security in the case of a put option at a given price before a given date (for American style options) or on a given date (European style options).\n",
    "\n",
    "There are many types of options of which only a few are available for retail traders. \"[Exotics](https://en.wikipedia.org/wiki/Exotic_option)\" exist that are generally large dollar trades (millions of US$) and traded among investment banks. These are generally custom built by quants to help solve a customer's specific financial problem.\n",
    "\n",
    "We will focus on plain vanilla, european style, equity options so we can use the famous Black-Scholes pricing formula. More on Black-Scholes a bit later.\n",
    "\n",
    "Most derivatives have a payoff function which describes the value at the end of the life of the contract (expiration). For a call option, the payoff can be expressed simply as:\n",
    "\n",
    "> $$C(S, K) = max(S-K, 0)$$\n",
    "\n",
    "While the payoff for a put option can be expressed as:\n",
    "\n",
    "> $$P(K, S) = max(K-S, 0)$$\n",
    "\n",
    "Where $S$ and $K$ are defined above. In this case, $K$ remains fixed during the life of a contract while the underlying stock price, $S$, fluctuates..\n",
    "\n",
    "Across a range of potential $S$ values, we can form what is commonly known as the payoff (or risk profile or PnL chart) for an option at expiration.\n",
    "\n",
    "The challenge for quants is to figure out what the price of the option is *before* expiration. This is where option pricing models like Black-Scholes come into play."
   ]
  },
  {
   "cell_type": "code",
   "execution_count": 2,
   "metadata": {},
   "outputs": [],
   "source": [
    "# underlying stock price\n",
    "S = 45.0\n",
    "\n",
    "# series of underlying stock prices to demonstrate a payoff profile\n",
    "S_ = np.arange(35.0, 55.0, 0.01)\n",
    "\n",
    "# strike price\n",
    "K = 45.0\n",
    "\n",
    "# time to expiration (you'll see this as T-t in the equation)\n",
    "t = 164.0 / 365.0\n",
    "\n",
    "# risk free rate (there's nuance to this which we'll describe later)\n",
    "r = 0.02\n",
    "\n",
    "# volatility (latent variable which is the topic of this talk)\n",
    "vol = 0.25\n",
    "\n",
    "# black scholes prices for demonstrating trades\n",
    "atm_call_premium = 3.20\n",
    "atm_put_premium = 2.79\n",
    "\n",
    "otm_call_premium = 1.39\n",
    "otm_put_premium = 0.92"
   ]
  },
  {
   "cell_type": "code",
   "execution_count": 3,
   "metadata": {},
   "outputs": [],
   "source": [
    "# use a lambda for a payoff functions\n",
    "# equivelant to:\n",
    "#\n",
    "# def call_payoff(S, K):\n",
    "#     return np.maximum(S - K, 0.0)\n",
    "call_payoff = lambda S, K: np.maximum(S_ - K, 0.0)\n",
    "\n",
    "# equivelant to:\n",
    "#\n",
    "# def put_payoff(S, K):\n",
    "#     return np.maximum(K - S, 0.0)\n",
    "put_payoff = lambda S, K: np.maximum(K - S_, 0.0)"
   ]
  },
  {
   "cell_type": "code",
   "execution_count": 4,
   "metadata": {},
   "outputs": [
    {
     "data": {
      "text/plain": [
       "[<matplotlib.lines.Line2D at 0x7fc378bc7160>]"
      ]
     },
     "execution_count": 4,
     "metadata": {},
     "output_type": "execute_result"
    },
    {
     "data": {
      "image/png": "[encoded data removed]",
      "text/plain": [
       "<Figure size 504x288 with 1 Axes>"
      ]
     },
     "metadata": {},
     "output_type": "display_data"
    }
   ],
   "source": [
    "# plot the call payoff\n",
    "plt.figure(1, figsize=(7, 4))\n",
    "plt.title(\"Call option payoff at expiration\")\n",
    "plt.xlabel(\"Underlying stock price, S\")\n",
    "plt.axhline(y=0, lw=1, c=\"grey\")\n",
    "plt.plot(S_, -atm_call_premium + call_payoff(S_, K))"
   ]
  },
  {
   "cell_type": "code",
   "execution_count": 5,
   "metadata": {},
   "outputs": [
    {
     "data": {
      "text/plain": [
       "[<matplotlib.lines.Line2D at 0x7fc3993c6310>]"
      ]
     },
     "execution_count": 5,
     "metadata": {},
     "output_type": "execute_result"
    },
    {
     "data": {
      "image/png": "[encoded data removed]",
      "text/plain": [
       "<Figure size 504x288 with 1 Axes>"
      ]
     },
     "metadata": {},
     "output_type": "display_data"
    }
   ],
   "source": [
    "# plot the put payoff\n",
    "plt.figure(2, figsize=(7, 4))\n",
    "plt.title(\"Put option payoff at expiration\")\n",
    "plt.xlabel(\"Underlying stock price, S\")\n",
    "plt.axhline(y=0, lw=1, c=\"grey\")\n",
    "plt.plot(S_, -atm_put_premium + put_payoff(S_, K))"
   ]
  },
  {
   "cell_type": "code",
   "execution_count": 6,
   "metadata": {},
   "outputs": [
    {
     "data": {
      "text/plain": [
       "[<matplotlib.lines.Line2D at 0x7fc39947b340>]"
      ]
     },
     "execution_count": 6,
     "metadata": {},
     "output_type": "execute_result"
    },
    {
     "data": {
      "image/png": "[encoded data removed]",
      "text/plain": [
       "<Figure size 504x288 with 1 Axes>"
      ]
     },
     "metadata": {},
     "output_type": "display_data"
    }
   ],
   "source": [
    "# plot a long straddle payoff\n",
    "long_straddle = call_payoff(S_, K) + put_payoff(S_, K)\n",
    "long_straddle_premium = -atm_call_premium - atm_put_premium\n",
    "plt.figure(3, figsize=(7, 4))\n",
    "plt.title(\"Long traddle payoff at expiration\")\n",
    "plt.xlabel(\"Underlying stock price, S\")\n",
    "plt.axhline(y=0, lw=1, c=\"grey\")\n",
    "plt.plot(S_, long_straddle_premium + long_straddle)"
   ]
  },
  {
   "cell_type": "code",
   "execution_count": 7,
   "metadata": {},
   "outputs": [
    {
     "data": {
      "text/plain": [
       "[<matplotlib.lines.Line2D at 0x7fc389ed0640>]"
      ]
     },
     "execution_count": 7,
     "metadata": {},
     "output_type": "execute_result"
    },
    {
     "data": {
      "image/png": "[encoded data removed]",
      "text/plain": [
       "<Figure size 504x288 with 1 Axes>"
      ]
     },
     "metadata": {},
     "output_type": "display_data"
    }
   ],
   "source": [
    "# plot a short straddle payoff\n",
    "short_straddle = -call_payoff(S_, K) - put_payoff(S_, K)\n",
    "short_straddle_premium = atm_call_premium + atm_put_premium\n",
    "plt.figure(4, figsize=(7, 4))\n",
    "plt.title(\"Short traddle payoff at expiration\")\n",
    "plt.xlabel(\"Underlying stock price, S\")\n",
    "plt.axhline(y=0, lw=1, c=\"grey\")\n",
    "plt.plot(S_, short_straddle_premium - long_straddle)"
   ]
  },
  {
   "cell_type": "code",
   "execution_count": 8,
   "metadata": {},
   "outputs": [
    {
     "data": {
      "text/plain": [
       "[<matplotlib.lines.Line2D at 0x7fc3a8d57b50>]"
      ]
     },
     "execution_count": 8,
     "metadata": {},
     "output_type": "execute_result"
    },
    {
     "data": {
      "image/png": "[encoded data removed]",
      "text/plain": [
       "<Figure size 504x288 with 1 Axes>"
      ]
     },
     "metadata": {},
     "output_type": "display_data"
    }
   ],
   "source": [
    "# plot a short iron condor payoff\n",
    "short_iron_condor = (\n",
    "    call_payoff(S_, K + 5)\n",
    "    - call_payoff(S_, K)\n",
    "    - put_payoff(S_, K)\n",
    "    + put_payoff(S_, K - 5)\n",
    ")\n",
    "short_iron_condor_premium = (\n",
    "    -otm_call_premium + atm_call_premium + atm_put_premium - otm_put_premium\n",
    ")\n",
    "plt.figure(5, figsize=(7, 4))\n",
    "plt.title(\"Short iron condor payoff at expiration\")\n",
    "plt.xlabel(\"Underlying stock price, S\")\n",
    "plt.axhline(y=0, lw=1, c=\"grey\")\n",
    "plt.plot(S_, short_iron_condor_premium + short_iron_condor)"
   ]
  },
  {
   "cell_type": "markdown",
   "metadata": {},
   "source": [
    "# What Is the Black-Scholes Option Pricing Model?\n",
    "\n",
    "Black-Scholes is largely understood as an options pricing formula but it is really a framework that models a financial market. Within this framework the options pricing formula is be derived through stochasitc differentiation.\n",
    "\n",
    "The Black–Scholes model assumes that the market consists of at least one risky asset, usually called the stock, and one riskless asset, usually called the money market, cash, or bond.\n",
    "\n",
    "Assumptions on the market:\n",
    "\n",
    "* The rate of return on the riskless asset is constant and thus called the risk-free interest rate\n",
    "* The instantaneous log returns of the stock price is an infinitesimal random walk with drift and volatility (geometric Brownian motion) and assumes this drift and volatility are constant\n",
    "* The stock does not pay a dividend\n",
    "\n",
    "Assumptions on the underlying security:\n",
    "\n",
    "* There is no arbitrage opportunity (i.e. there is no way to make a riskless profit)\n",
    "* It is possible to borrow and lend any amount, even fractional, of cash at the riskless rate\n",
    "* It is possible to buy and sell any amount, even fractional, of the stock (this includes short selling)\n",
    "* The above transactions do not incur any fees or costs (i.e. frictionless market).\n",
    "\n",
    "As any trader knows, not a single one of these assumptions are actually true in reality. Probably the most imporant is the assumption of constant volatility which motivates this presentation.\n",
    "\n",
    "Assume these assumptions *do* hold and suppose there is a derivative security also trading in this market. We specify that this security will have a certain payoff at a specified date in the future, depending on the value(s) taken by the stock up to that date. It is a surprising fact that the derivative's price is completely determined at the current time, even though we do not know what path the stock price will take in the future. (These are the payoffs we saw above.) For the special case of a European call or put option, Black and Scholes showed that *\"it is possible to create a hedged position, consisting of a long position in the stock and a short position in the option, whose value will not depend on the price of the stock\"*. Their dynamic hedging strategy led to a partial differential equation which governed the price of the option. Its solution is given by the Black–Scholes formula.\n"
   ]
  },
  {
   "cell_type": "markdown",
   "metadata": {},
   "source": [
    "# (Some of) the Math\n",
    "\n",
    "The famous Black-Scholes model:\n",
    "\n",
    "> $$\\frac{\\partial V}{\\partial t} + \\frac{1}{2}\\sigma^{2}S^{2}\\frac{\\partial^{2} V}{\\partial S^{2}}+rS\\frac{\\partial V}{\\partial S}-rV=0$$\n",
    "\n",
    "The key financial insight behind the equation is that one can perfectly hedge the option by buying and selling the underlying asset in just the right way and consequently create an arbitrage free environment. This hedge, in turn, implies that there is only one right price for the option, as returned by the Black–Scholes formula. For this dynamic hedging to work, one must continuously hedge the movement in the underlying stock with the option which in reality, is prohibitive due to transaction costs.\n",
    "\n",
    "I'll skip the derivation of the option pricing formulas from the partial differential equation but the result solves for a call option\n",
    "\n",
    "> $$C(S, t) = N(d_{1})S - N(d_{2})Ke^{-r(T-t)}$$\n",
    "\n",
    "and put option\n",
    "\n",
    "> $$P(S, t) = N(-d_{2})Ke^{-r(T-t)} - N(-d_{1})S$$\n",
    "\n",
    "where\n",
    "\n",
    "> $$d_{1} = \\frac{ln(\\frac{S}{K})+(r+\\frac{\\sigma^{2}}{2})(T-t)}{\\sigma\\sqrt{T-t}}$$\n",
    "\n",
    "and\n",
    "\n",
    "> $$d_{2} = d_{1} - \\sigma\\sqrt{T-t}$$\n",
    "\n",
    "and finally (as we discussed above)\n",
    "\n",
    "* $N(\\cdot)$ is the cumulative distribution function of the standard normal distribution\n",
    "* $T - t$ is the time to maturity (I use $t$ in the code)\n",
    "* $S$ is the spot price of the underlying asset\n",
    "* $K$ is the strike price\n",
    "* $r$ is the risk free rate (annual rate, expressed in terms of continuous compounding)\n",
    "* $\\sigma$ is the volatility of returns of the underlying asset (I use $vol$ in the code)"
   ]
  },
  {
   "cell_type": "markdown",
   "metadata": {},
   "source": [
    "# Black-Scholes Formula in Python\n",
    "\n",
    "Finally, enough math and some code. We'll be using Numpy so we vectorize the function which will help us later."
   ]
  },
  {
   "cell_type": "code",
   "execution_count": 9,
   "metadata": {},
   "outputs": [],
   "source": [
    "def N(z):\n",
    "    \"\"\" Normal cumulative density function\n",
    "\n",
    "    :param z: point at which cumulative density is calculated \n",
    "    :return: cumulative density under normal curve\n",
    "    \"\"\"\n",
    "    return norm.cdf(z)\n",
    "\n",
    "\n",
    "def black_scholes_call_value(S, K, r, t, vol):\n",
    "    \"\"\" Black-Scholes call option\n",
    "\n",
    "    :param S: underlying\n",
    "    :param K: strike price\n",
    "    :param r: rate\n",
    "    :param t: time to expiration\n",
    "    :param vol: volatility\n",
    "    :return: BS call option value\n",
    "    \"\"\"\n",
    "    d1 = (1.0 / (vol * np.sqrt(t))) * (np.log(S / K) + (r + 0.5 * vol ** 2.0) * t)\n",
    "    d2 = d1 - (vol * np.sqrt(t))\n",
    "\n",
    "    return N(d1) * S - N(d2) * K * np.exp(-r * t)\n",
    "\n",
    "\n",
    "def black_scholes_put_value(S, K, r, t, vol):\n",
    "    \"\"\" Black-Scholes put option\n",
    "\n",
    "    :param S: underlying\n",
    "    :param K: strike price\n",
    "    :param r: rate\n",
    "    :param t: time to expiration\n",
    "    :param vol: volatility\n",
    "    :return: BS put option value\n",
    "    \"\"\"\n",
    "    d1 = (1.0 / (vol * np.sqrt(t))) * (np.log(S / K) + (r + 0.5 * vol ** 2.0) * t)\n",
    "    d2 = d1 - (vol * np.sqrt(t))\n",
    "\n",
    "    return N(-d2) * K * np.exp(-r * t) - N(-d1) * S"
   ]
  },
  {
   "cell_type": "code",
   "execution_count": 10,
   "metadata": {},
   "outputs": [
    {
     "name": "stdout",
     "output_type": "stream",
     "text": [
      "Black-Scholes call value 3.20\n",
      "Black-Scholes put value 2.79\n"
     ]
    }
   ],
   "source": [
    "call_value = black_scholes_call_value(S, K, r, t, vol)\n",
    "put_value = black_scholes_put_value(S, K, r, t, vol)\n",
    "\n",
    "print(f\"Black-Scholes call value {call_value:.2f}\")\n",
    "print(f\"Black-Scholes put value {put_value:.2f}\")"
   ]
  },
  {
   "cell_type": "markdown",
   "metadata": {},
   "source": [
    "Because we vectorized the function, we can plot the Black-Scholes call value along a range of underlying stock prices. Going back to our example of the option value at expiration, let's see what it looks like with six, three and one month left to expiration."
   ]
  },
  {
   "cell_type": "code",
   "execution_count": 11,
   "metadata": {},
   "outputs": [],
   "source": [
    "# get the value of the option with six months to expiration\n",
    "black_scholes_call_value_six_months = (\n",
    "    black_scholes_call_value(S_, K, r, 0.5, vol) - atm_call_premium\n",
    ")\n",
    "\n",
    "# get the value of the option with three months to expiration\n",
    "black_scholes_call_value_three_months = (\n",
    "    black_scholes_call_value(S_, K, r, 0.25, vol) - atm_call_premium\n",
    ")\n",
    "\n",
    "# get the value of the option with one month to expiration\n",
    "black_scholes_call_value_one_month = (\n",
    "    black_scholes_call_value(S_, K, r, 1.0 / 12.0, vol) - atm_call_premium\n",
    ")\n",
    "\n",
    "# get payoff value at expiration\n",
    "call_payoff_at_expiration = call_payoff(S_, K) - atm_call_premium"
   ]
  },
  {
   "cell_type": "code",
   "execution_count": 12,
   "metadata": {},
   "outputs": [
    {
     "data": {
      "text/plain": [
       "<matplotlib.legend.Legend at 0x7fc389f24520>"
      ]
     },
     "execution_count": 12,
     "metadata": {},
     "output_type": "execute_result"
    },
    {
     "data": {
      "image/png": "[encoded data removed]",
      "text/plain": [
       "<Figure size 504x288 with 1 Axes>"
      ]
     },
     "metadata": {},
     "output_type": "display_data"
    }
   ],
   "source": [
    "# plot the call payoffs\n",
    "plt.figure(3, figsize=(7, 4))\n",
    "plt.plot(S_, black_scholes_call_value_six_months)\n",
    "plt.plot(S_, black_scholes_call_value_three_months)\n",
    "plt.plot(S_, black_scholes_call_value_one_month)\n",
    "plt.plot(S_, call_payoff_at_expiration)\n",
    "plt.axhline(y=0, lw=1, c=\"grey\")\n",
    "plt.title(\"Black-Scholes price of option through time\")\n",
    "plt.xlabel(\"Underlying stock price, S\")\n",
    "plt.legend([\"t=0.5\", \"t=0.25\", \"t=0.083\", \"t=0\"], loc=2)"
   ]
  },
  {
   "cell_type": "markdown",
   "metadata": {},
   "source": [
    "As you can see from the plot above, as the time to expiration decreases, the value of the option collapses towards the value of the option at expiration, or the payoff value."
   ]
  },
  {
   "cell_type": "markdown",
   "metadata": {},
   "source": [
    "# The Greeks\n",
    "\n",
    "A discussion about Black-Scholes would not be complete without a discussion of the Greeks. In mathematical terms, the Greeks are simply the partial derivatives of the option pricing formula. In other words, these are the sensitivities in the movement of the option price relative to the movement of other aspects of the input variables.\n",
    "\n",
    "Because the assumptions required for the Black-Scholes model do not hold true in practice, the plain vanilla formula presented above is not usually used for pricing options for the purposes of trading. (In fact if one were to rely on Black-Scholes to manage a portfolio of options, that trader would surely lose money.) It is however, largely used for understanding the sensitivities of the option with respect to it's parameters and to hedge. The most common Greeks are as follows.\n",
    "\n",
    "* **Delta**. Partial derivative of the option value with respect to the change in the underlying stock price. Delta measures how the underlying option moves with respect to moves in the underlying stock. The formula for delta is different for calls and puts.\n",
    "\n",
    "> Call delta\n",
    "> $$\\frac{\\partial V}{\\partial S} = N(d_{1})$$\n",
    "\n",
    "> Put delta\n",
    "> $$\\frac{\\partial V}{\\partial S} = N(d_{1})-1$$\n",
    "\n",
    "* **Gamma**. Second partial derivative of the option value with respect to the change in the underlying stock price. Gamma measures movements in delta or the convexity in the value of the option with respect to the underlying.\n",
    "\n",
    "> Gamma (same for call and put)\n",
    "> $$\\frac{\\partial^2 V}{\\partial S^2} = \\frac{\\phi(d_{1})}{S\\sigma \\sqrt{T-t}}$$\n",
    "\n",
    "* **Vega**. Partial derivative of the option value with respect to the change in the volatility of the underling. Vega measures how the option price moves with respect to the volatility of the underlying. (Note vega is not a real greek letter.)\n",
    "\n",
    "> Vega (same for call and put)\n",
    "> $$\\frac{\\partial V}{\\partial \\sigma} = S\\phi(d_{1}) \\sqrt{T-t}$$\n",
    "\n",
    "* **Theta**. Partial derivative of the option value with respect to the change in time. Theta measures how the value of the option decays as time passes. This was demonstrated in the plot above.\n",
    "\n",
    "> Call theta\n",
    "> $$\\frac{\\partial V}{\\partial t} = -\\frac{S\\phi(d_{1})\\sigma}{2\\sqrt{T-t}} -rKe^{-r(T-t)}N(d_2)$$\n",
    "\n",
    "> Put theta\n",
    "> $$\\frac{\\partial V}{\\partial t} = -\\frac{S\\phi(d_{1})\\sigma}{2\\sqrt{T-t}} +rKe^{-r(T-t)}N(-d_2)$$\n",
    "\n",
    "* **Rho**. Partial derivative of the option value with respect to change in the risk-free interest rate. Rho measures how the option value changes as the interest rate changes.\n",
    "\n",
    "> Call rho\n",
    "> $$\\frac{\\partial V}{\\partial r} = K(T-t)e^{-r(T-t)}N(d_2)$$\n",
    "\n",
    "> Put rho\n",
    "> $$\\frac{\\partial V}{\\partial r} = -K(T-t)e^{-r(T-t)}N(-d_2)$$\n",
    "\n",
    "Where $\\phi$\n",
    "\n",
    "> $$\\phi(x) = \\frac{e^{-\\frac{x^2}{2}}}{\\sqrt{2\\pi}}$$\n",
    "\n",
    "and $N(\\cdot)$, $d_1$ and $d_2$ are defined above."
   ]
  },
  {
   "cell_type": "markdown",
   "metadata": {},
   "source": [
    "# The Greeks in Python\n",
    "\n",
    "Although we won't be discussing the greeks any further in this talk, let's code them up for completeness."
   ]
  },
  {
   "cell_type": "code",
   "execution_count": 13,
   "metadata": {},
   "outputs": [],
   "source": [
    "# helper function phi\n",
    "def phi(x):\n",
    "    \"\"\" Phi helper function\n",
    "    \n",
    "    \"\"\"\n",
    "    return np.exp(-0.5 * x * x) / (sqrt(2.0 * pi))\n",
    "\n",
    "\n",
    "# shared\n",
    "def gamma(S, K, r, t, vol):\n",
    "    \"\"\" Black-Scholes gamma\n",
    "    \n",
    "    :param S: underlying\n",
    "    :param K: strike price\n",
    "    :param r: rate\n",
    "    :param t: time to expiration\n",
    "    :param vol: volatility\n",
    "    :return: gamma\n",
    "    \"\"\"\n",
    "    d1 = (1.0 / (vol * np.sqrt(t))) * (np.log(S / K) + (r + 0.5 * vol ** 2.0) * t)\n",
    "\n",
    "    return phi(d1) / (S * vol * sqrt(t))\n",
    "\n",
    "\n",
    "def vega(S, K, r, t, vol):\n",
    "    \"\"\" Black-Scholes vega\n",
    "    \n",
    "    :param S: underlying\n",
    "    :param K: strike price\n",
    "    :param r: rate\n",
    "    :param t: time to expiration\n",
    "    :param vol: volatility\n",
    "    :return: vega\n",
    "    \"\"\"\n",
    "    d1 = (1.0 / (vol * np.sqrt(t))) * (np.log(S / K) + (r + 0.5 * vol ** 2.0) * t)\n",
    "\n",
    "    return (S * phi(d1) * sqrt(t)) / 100.0\n",
    "\n",
    "\n",
    "# call options\n",
    "def call_delta(S, K, r, t, vol):\n",
    "    \"\"\" Black-Scholes call delta\n",
    "    \n",
    "    :param S: underlying\n",
    "    :param K: strike price\n",
    "    :param r: rate\n",
    "    :param t: time to expiration\n",
    "    :param vol: volatility\n",
    "    :return: call delta\n",
    "    \"\"\"\n",
    "    d1 = (1.0 / (vol * np.sqrt(t))) * (np.log(S / K) + (r + 0.5 * vol ** 2.0) * t)\n",
    "\n",
    "    return N(d1)"
   ]
  },
  {
   "cell_type": "code",
   "execution_count": 14,
   "metadata": {},
   "outputs": [],
   "source": [
    "def call_theta(S, K, r, t, vol):\n",
    "    \"\"\" Black-Scholes call theta\n",
    "    \n",
    "    :param S: underlying\n",
    "    :param K: strike price\n",
    "    :param r: rate\n",
    "    :param t: time to expiration\n",
    "    :param vol: volatility\n",
    "    :return: call theta\n",
    "    \"\"\"\n",
    "    d1 = (1.0 / (vol * np.sqrt(t))) * (np.log(S / K) + (r + 0.5 * vol ** 2.0) * t)\n",
    "    d2 = d1 - (vol * np.sqrt(t))\n",
    "\n",
    "    theta = -((S * phi(d1) * vol) / (2.0 * np.sqrt(t))) - (\n",
    "        r * K * np.exp(-r * t) * N(d2)\n",
    "    )\n",
    "    return theta / 365.0\n",
    "\n",
    "\n",
    "def call_rho(S, K, r, t, vol):\n",
    "    \"\"\" Black-Scholes call rho\n",
    "    \n",
    "    :param S: underlying\n",
    "    :param K: strike price\n",
    "    :param r: rate\n",
    "    :param t: time to expiration\n",
    "    :param vol: volatility\n",
    "    :return: call rho\n",
    "    \"\"\"\n",
    "    d1 = (1.0 / (vol * np.sqrt(t))) * (np.log(S / K) + (r + 0.5 * vol ** 2.0) * t)\n",
    "    d2 = d1 - (vol * np.sqrt(t))\n",
    "\n",
    "    rho = K * t * np.exp(-r * t) * N(d2)\n",
    "    return rho / 100.0\n",
    "\n",
    "\n",
    "# put options\n",
    "def put_delta(S, K, r, t, vol):\n",
    "    \"\"\" Black-Scholes put delta\n",
    "    \n",
    "    :param S: underlying\n",
    "    :param K: strike price\n",
    "    :param r: rate\n",
    "    :param t: time to expiration\n",
    "    :param vol: volatility\n",
    "    :return: put delta\n",
    "    \"\"\"\n",
    "    d1 = (1.0 / (vol * np.sqrt(t))) * (np.log(S / K) + (r + 0.5 * vol ** 2.0) * t)\n",
    "\n",
    "    return N(d1) - 1.0"
   ]
  },
  {
   "cell_type": "code",
   "execution_count": 15,
   "metadata": {},
   "outputs": [],
   "source": [
    "def put_theta(S, K, r, t, vol):\n",
    "    \"\"\" Black-Scholes put theta\n",
    "    \n",
    "    :param S: underlying\n",
    "    :param K: strike price\n",
    "    :param r: rate\n",
    "    :param t: time to expiration\n",
    "    :param vol: volatility\n",
    "    :return: put theta\n",
    "    \"\"\"\n",
    "    d1 = (1.0 / (vol * np.sqrt(t))) * (np.log(S / K) + (r + 0.5 * vol ** 2.0) * t)\n",
    "    d2 = d1 - (vol * np.sqrt(t))\n",
    "\n",
    "    theta = -((S * phi(d1) * vol) / (2.0 * np.sqrt(t))) + (\n",
    "        r * K * np.exp(-r * t) * N(-d2)\n",
    "    )\n",
    "    return theta / 365.0\n",
    "\n",
    "\n",
    "def put_rho(S, K, r, t, vol):\n",
    "    \"\"\" Black-Scholes put rho\n",
    "    \n",
    "    :param S: underlying\n",
    "    :param K: strike price\n",
    "    :param r: rate\n",
    "    :param t: time to expiration\n",
    "    :param vol: volatility\n",
    "    :return: put rho\n",
    "    \"\"\"\n",
    "    d1 = (1.0 / (vol * np.sqrt(t))) * (np.log(S / K) + (r + 0.5 * vol ** 2.0) * t)\n",
    "    d2 = d1 - (vol * np.sqrt(t))\n",
    "\n",
    "    rho = -K * t * np.exp(-r * t) * N(-d2)\n",
    "    return rho / 100.0"
   ]
  },
  {
   "cell_type": "code",
   "execution_count": 16,
   "metadata": {},
   "outputs": [
    {
     "name": "stdout",
     "output_type": "stream",
     "text": [
      "Black-Scholes call delta 0.5546\n",
      "Black-Scholes put delta -0.4454\n",
      "Black-Scholes gamma 0.0524\n",
      "Black-Scholes vega 0.1192\n",
      "Black-Scholes call theta -0.0103\n",
      "Black-Scholes put theta -0.0078\n",
      "Black-Scholes call rho 0.0978\n",
      "Black-Scholes put rho -0.1026\n"
     ]
    }
   ],
   "source": [
    "# print each of the results\n",
    "print(\"Black-Scholes call delta %0.4f\" % call_delta(S, K, r, t, vol))\n",
    "print(\"Black-Scholes put delta %0.4f\" % put_delta(S, K, r, t, vol))\n",
    "print(\"Black-Scholes gamma %0.4f\" % gamma(S, K, r, t, vol))\n",
    "print(\"Black-Scholes vega %0.4f\" % vega(S, K, r, t, vol))\n",
    "print(\"Black-Scholes call theta %0.4f\" % call_theta(S, K, r, t, vol))\n",
    "print(\"Black-Scholes put theta %0.4f\" % put_theta(S, K, r, t, vol))\n",
    "print(\"Black-Scholes call rho %0.4f\" % call_rho(S, K, r, t, vol))\n",
    "print(\"Black-Scholes put rho %0.4f\" % put_rho(S, K, r, t, vol))"
   ]
  },
  {
   "cell_type": "markdown",
   "metadata": {},
   "source": [
    "# Realized Volatility\n",
    "\n",
    "Also refered to as historical or statistical volatility, realized volatility estimates the volatility of the underlying price over a defined period of time. It's generally used as an input into a pricing model such as the Black-Scholes model to calibrate the value to then solve for implied volatiltiy. Realized volatility is not generally used for making trading decisions but can be informative in understanding how the underlying has moved in the past.\n",
    "\n",
    "The bonus lecture presents several realized volatility estimators. Here, we'll use the most common estimator which is simple standard deviation of log returns. A popular analysis technique, volatility cones, is also presented.\n",
    "\n",
    "We'll use `pandas_datareader` to get historical prices for the underlying and compute a 30-day, annualized volatility measure."
   ]
  },
  {
   "cell_type": "code",
   "execution_count": 17,
   "metadata": {},
   "outputs": [],
   "source": [
    "# define a stock symbol\n",
    "underlying_symbol = \"IBM\"\n",
    "\n",
    "# define a YahooDailyReader object\n",
    "price_obj = YahooDailyReader(underlying_symbol, start=\"2015-01-01\", end=\"2015-12-31\")\n",
    "\n",
    "# request historical data\n",
    "prices = price_obj.read()\n",
    "\n",
    "# yahoo returns prices in ascending order, sort to descending order\n",
    "prices.sort_index(ascending=False, inplace=True)\n",
    "\n",
    "# let's pickle the dataframe so we don't have to hit the network every time\n",
    "prices.to_pickle(\"underlying_prices.pickle\")"
   ]
  },
  {
   "cell_type": "code",
   "execution_count": 18,
   "metadata": {},
   "outputs": [],
   "source": [
    "# read the original frame in from cache (pickle)\n",
    "prices = pd.read_pickle(\"underlying_prices.pickle\")"
   ]
  },
  {
   "cell_type": "raw",
   "metadata": {},
   "source": [
    "<div style=\"page-break-after: always;\"></div>"
   ]
  },
  {
   "cell_type": "code",
   "execution_count": 19,
   "metadata": {},
   "outputs": [
    {
     "data": {
      "text/plain": [
       "<AxesSubplot:xlabel='Date'>"
      ]
     },
     "execution_count": 19,
     "metadata": {},
     "output_type": "execute_result"
    },
    {
     "data": {
      "image/png": "[encoded data removed]",
      "text/plain": [
       "<Figure size 504x288 with 1 Axes>"
      ]
     },
     "metadata": {},
     "output_type": "display_data"
    }
   ],
   "source": [
    "prices[\"Adj Close\"].plot(figsize=(7, 4))"
   ]
  },
  {
   "cell_type": "markdown",
   "metadata": {},
   "source": [
    "Use the last month (roughly 22 trading days) of the data set to compute "
   ]
  },
  {
   "cell_type": "code",
   "execution_count": 20,
   "metadata": {},
   "outputs": [],
   "source": [
    "# compute the log returns from the adjusted closing price\n",
    "log_return = (prices[\"Adj Close\"] / prices[\"Adj Close\"].shift(-1)).apply(np.log)\n",
    "\n",
    "# take the standard deviation of the last month of data (22 trading days)\n",
    "sd_of_log_returns = log_return.head(22).std()\n",
    "\n",
    "# multiply by the square root of the number of trading days in a year (252) to annualize\n",
    "realized_volatility = sd_of_log_returns * sqrt(252)"
   ]
  },
  {
   "cell_type": "code",
   "execution_count": 21,
   "metadata": {},
   "outputs": [
    {
     "name": "stdout",
     "output_type": "stream",
     "text": [
      "One month, annualized realized volatility 0.1798\n"
     ]
    }
   ],
   "source": [
    "print(\"One month, annualized realized volatility %0.4f\" % realized_volatility)"
   ]
  },
  {
   "cell_type": "code",
   "execution_count": 22,
   "metadata": {},
   "outputs": [],
   "source": [
    "# use the pandas DataFrame.rolling method to create a rolling standard deviation of \n",
    "# log returns, then multiply by square root of 252 to annualize\n",
    "rolling_realized_volatility = log_return.rolling(window=22, center=False).std() * sqrt(\n",
    "    252\n",
    ")"
   ]
  },
  {
   "cell_type": "code",
   "execution_count": 23,
   "metadata": {},
   "outputs": [
    {
     "data": {
      "text/plain": [
       "<AxesSubplot:title={'center':'Historic one month, annualized realized volatility'}, xlabel='Date'>"
      ]
     },
     "execution_count": 23,
     "metadata": {},
     "output_type": "execute_result"
    },
    {
     "data": {
      "image/png": "[encoded data removed]",
      "text/plain": [
       "<Figure size 504x288 with 1 Axes>"
      ]
     },
     "metadata": {},
     "output_type": "display_data"
    }
   ],
   "source": [
    "# note that we plot plot directly from a pandas data frame!\n",
    "rolling_realized_volatility.plot(\n",
    "    title=\"Historic one month, annualized realized volatility\", figsize=(7, 4)\n",
    ")"
   ]
  },
  {
   "cell_type": "markdown",
   "metadata": {},
   "source": [
    "# Implied Volatility\n",
    "\n",
    "The Black-Scholes pricing formula is usually used to solve for implied volatility. Quite simply, this means setting the Black-Scholes pricing formula equal to the market observed price and using a root finding algorithm to solve for the volatility parameter which sets the difference (between model and market price) to zero.\n",
    "\n",
    "The implied volatility is generally used for making trading decisions, calibrating other more exotic securities and researching market anomolies. For example, many traders use the so called volatility skew to understand the relative value of an option to other options trading in the market. We'll see examples of the skew later.\n",
    "\n",
    "First we create an objective function which we'll pass to the Scipy implementation of the [Brentq algorithm](http://docs.scipy.org/doc/scipy-0.14.0/reference/generated/scipy.optimize.brentq.html). Then we'll create an implied volatilty function to return the volatility parameter that sets the observed market price to the model price."
   ]
  },
  {
   "cell_type": "code",
   "execution_count": 24,
   "metadata": {},
   "outputs": [],
   "source": [
    "def call_implied_volatility_objective_function(\n",
    "    S, K, r, t, vol, call_option_market_price\n",
    "):\n",
    "    \"\"\" Objective function which sets market and model prices to zero\n",
    "    \n",
    "    :param S: underlying\n",
    "    :param K: strike price\n",
    "    :param r: rate\n",
    "    :param t: time to expiration\n",
    "    :param vol: volatility\n",
    "    :param call_option_market_price: market observed option price\n",
    "    :return: error between market and model price\n",
    "    \"\"\"\n",
    "    return call_option_market_price - black_scholes_call_value(S, K, r, t, vol)"
   ]
  },
  {
   "cell_type": "code",
   "execution_count": 25,
   "metadata": {},
   "outputs": [],
   "source": [
    "def call_implied_volatility(\n",
    "    S, K, r, t, call_option_market_price, a=-2.0, b=2.0, xtol=1e-6\n",
    "):\n",
    "    \"\"\" Call implied volatility function\n",
    "    \n",
    "    :param S: underlying\n",
    "    :param K: strike price\n",
    "    :param r: rate\n",
    "    :param t: time to expiration\n",
    "    :param call_option_market_price: market observed option price\n",
    "    :param a: lower bound for brentq method\n",
    "    :param b: upper gound for brentq method\n",
    "    :param xtol: tolerance which is considered good enough\n",
    "    :return: volatility to sets the difference between market and model price to zero\n",
    "    \n",
    "    \"\"\"\n",
    "    # avoid mirroring outer scope\n",
    "    _S, _K, _r, _t, _call_option_market_price = S, K, r, t, call_option_market_price\n",
    "\n",
    "    # define a nested function that takes our target param as the input\n",
    "    def fcn(vol):\n",
    "\n",
    "        # returns the difference between market and model price at given volatility\n",
    "        return call_implied_volatility_objective_function(\n",
    "            _S, _K, _r, _t, vol, _call_option_market_price\n",
    "        )\n",
    "\n",
    "    # first we try to return the results from the brentq algorithm\n",
    "    try:\n",
    "        result = brentq(fcn, a=a, b=b, xtol=xtol)\n",
    "\n",
    "        # if the results are *too* small, sent to np.nan so we can later interpolate\n",
    "        return np.nan if result <= 1.0e-6 else result\n",
    "\n",
    "    # if it fails then we return np.nan so we can later interpolate the results\n",
    "    except ValueError:\n",
    "        return np.nan\n",
    "\n",
    "    \n",
    "def put_implied_volatility_objective_function(S, K, r, t, vol, put_option_market_price):\n",
    "    \"\"\" Objective function which sets market and model prices to zero\n",
    "    \n",
    "    :param S: underlying\n",
    "    :param K: strike price\n",
    "    :param r: rate\n",
    "    :param t: time to expiration\n",
    "    :param vol: volatility\n",
    "    :param call_option_market_price: market observed option price\n",
    "    :return: error between market and model price\n",
    "    \"\"\"\n",
    "    return put_option_market_price - black_scholes_put_value(S, K, r, t, vol)"
   ]
  },
  {
   "cell_type": "code",
   "execution_count": 26,
   "metadata": {},
   "outputs": [],
   "source": [
    "def put_implied_volatility(\n",
    "    S, K, r, t, put_option_market_price, a=-2.0, b=2.0, xtol=1e-6\n",
    "):\n",
    "    \"\"\" Put implied volatility function\n",
    "    \n",
    "    :param S: underlying\n",
    "    :param K: strike price\n",
    "    :param r: rate\n",
    "    :param t: time to expiration\n",
    "    :param call_option_market_price: market observed option price\n",
    "    :param a: lower bound for brentq method\n",
    "    :param b: upper gound for brentq method\n",
    "    :param xtol: tolerance which is considered good enough\n",
    "    :return: volatility to sets the difference between market and model price to zero\n",
    "    \n",
    "    \"\"\"\n",
    "\n",
    "    # avoid mirroring out scope\n",
    "    _S, _K, _r, _t, _put_option_market_price = S, K, r, t, put_option_market_price\n",
    "\n",
    "    # define a nsted function that takes our target param as the input\n",
    "    def fcn(vol):\n",
    "\n",
    "        # returns the difference between market and model price at given volatility\n",
    "        return put_implied_volatility_objective_function(\n",
    "            _S, _K, _r, _t, vol, _put_option_market_price\n",
    "        )\n",
    "\n",
    "    # first we try to return the results from the brentq algorithm\n",
    "    try:\n",
    "        result = brentq(fcn, a=a, b=b, xtol=xtol)\n",
    "\n",
    "        # if the results are *too* small, sent to np.nan so we can later interpolate\n",
    "        return np.nan if result <= 1.0e-6 else result\n",
    "\n",
    "    # if it fails then we return np.nan so we can later interpolate the results\n",
    "    except ValueError:\n",
    "        return np.nan"
   ]
  },
  {
   "cell_type": "code",
   "execution_count": 27,
   "metadata": {},
   "outputs": [
    {
     "name": "stdout",
     "output_type": "stream",
     "text": [
      "Call implied volatility if market and model were equal (should be close to 0.25) 0.250000\n",
      "Put implied volatility if market and model were equal (should be close to 0.25) 0.250000\n"
     ]
    }
   ],
   "source": [
    "# get the call and put values to test the implied volatility output\n",
    "call_model_price = black_scholes_call_value(S, K, r, t, vol)\n",
    "print(\n",
    "    \"Call implied volatility if market and model were equal (should be close to 0.25) %0.6f\"\n",
    "    % call_implied_volatility(S, K, r, t, call_model_price)\n",
    ")\n",
    "\n",
    "put_model_price = black_scholes_put_value(S, K, r, t, vol)\n",
    "print(\n",
    "    \"Put implied volatility if market and model were equal (should be close to 0.25) %0.6f\"\n",
    "    % put_implied_volatility(S, K, r, t, put_model_price)\n",
    ")"
   ]
  },
  {
   "cell_type": "markdown",
   "metadata": {},
   "source": [
    "# Getting Real Options Market Data\n",
    "\n",
    "> <span style=\"color:red\">Yahoo discontinued use of their API for options data and the `Options` call no longer works. There's no known way to acquire options data for free. This example uses cached data.</span>\n",
    "\n",
    "With the excellent [Pandas](http://pandas.pydata.org/) library (you are using Pandas, right?) we can grab entire options chains directly from Yahoo!. This is slow (it has to scrape several pages), but very useful. Chains include all options of all strikes for and expirations for a particular underlying stock.\n",
    "\n",
    "The chains are returned in a very handy `MultiIndex pandas.DataFrame` object. Let's see how this works."
   ]
  },
  {
   "cell_type": "code",
   "execution_count": 28,
   "metadata": {},
   "outputs": [],
   "source": [
    "# define a stock symbol\n",
    "underlying_symbol = \"IBM\"\n",
    "\n",
    "# # define a Options object\n",
    "# options_obj = Options('IBM')\n",
    "\n",
    "# # request all chains for the underlying symbol\n",
    "# options_frame_live = options_obj.get_all_data()\n",
    "\n",
    "# let's pickle the dataframe so we don't have to hit the network every time\n",
    "# options_frame_live.to_pickle('options_frame.pickle')"
   ]
  },
  {
   "cell_type": "code",
   "execution_count": 29,
   "metadata": {},
   "outputs": [],
   "source": [
    "# read the original frame in from cache (pickle)\n",
    "options_frame = pd.read_pickle(\"options_frame.pickle\")"
   ]
  },
  {
   "cell_type": "code",
   "execution_count": 30,
   "metadata": {},
   "outputs": [
    {
     "name": "stdout",
     "output_type": "stream",
     "text": [
      "<class 'pandas.core.frame.DataFrame'>\n",
      "MultiIndex: 519 entries, (70.0, Timestamp('2016-07-15 00:00:00'), 'put', 'IBM160715P00070000') to (280.0, Timestamp('2017-01-20 00:00:00'), 'put', 'IBM170120P00280000')\n",
      "Data columns (total 13 columns):\n",
      " #   Column            Non-Null Count  Dtype         \n",
      "---  ------            --------------  -----         \n",
      " 0   Last              519 non-null    float64       \n",
      " 1   Bid               519 non-null    float64       \n",
      " 2   Ask               519 non-null    float64       \n",
      " 3   Chg               519 non-null    float64       \n",
      " 4   PctChg            519 non-null    object        \n",
      " 5   Vol               519 non-null    int64         \n",
      " 6   Open_Int          519 non-null    int64         \n",
      " 7   IV                519 non-null    object        \n",
      " 8   Root              519 non-null    object        \n",
      " 9   IsNonstandard     519 non-null    bool          \n",
      " 10  Underlying        519 non-null    object        \n",
      " 11  Underlying_Price  519 non-null    float64       \n",
      " 12  Quote_Time        519 non-null    datetime64[ns]\n",
      "dtypes: bool(1), datetime64[ns](1), float64(5), int64(2), object(4)\n",
      "memory usage: 75.2+ KB\n"
     ]
    }
   ],
   "source": [
    "# take a quick look at the DataFrame that returned\n",
    "options_frame.info()"
   ]
  },
  {
   "cell_type": "code",
   "execution_count": 31,
   "metadata": {},
   "outputs": [
    {
     "data": {
      "text/html": [
       "<div>\n",
       "<style scoped>\n",
       "    .dataframe tbody tr th:only-of-type {\n",
       "        vertical-align: middle;\n",
       "    }\n",
       "\n",
       "    .dataframe tbody tr th {\n",
       "        vertical-align: top;\n",
       "    }\n",
       "\n",
       "    .dataframe thead th {\n",
       "        text-align: right;\n",
       "    }\n",
       "</style>\n",
       "<table border=\"1\" class=\"dataframe\">\n",
       "  <thead>\n",
       "    <tr style=\"text-align: right;\">\n",
       "      <th></th>\n",
       "      <th></th>\n",
       "      <th></th>\n",
       "      <th></th>\n",
       "      <th>Last</th>\n",
       "      <th>Bid</th>\n",
       "      <th>Ask</th>\n",
       "      <th>Chg</th>\n",
       "      <th>PctChg</th>\n",
       "      <th>Vol</th>\n",
       "      <th>Open_Int</th>\n",
       "      <th>IV</th>\n",
       "      <th>Root</th>\n",
       "      <th>IsNonstandard</th>\n",
       "      <th>Underlying</th>\n",
       "      <th>Underlying_Price</th>\n",
       "      <th>Quote_Time</th>\n",
       "    </tr>\n",
       "    <tr>\n",
       "      <th>Strike</th>\n",
       "      <th>Expiry</th>\n",
       "      <th>Type</th>\n",
       "      <th>Symbol</th>\n",
       "      <th></th>\n",
       "      <th></th>\n",
       "      <th></th>\n",
       "      <th></th>\n",
       "      <th></th>\n",
       "      <th></th>\n",
       "      <th></th>\n",
       "      <th></th>\n",
       "      <th></th>\n",
       "      <th></th>\n",
       "      <th></th>\n",
       "      <th></th>\n",
       "      <th></th>\n",
       "    </tr>\n",
       "  </thead>\n",
       "  <tbody>\n",
       "    <tr>\n",
       "      <th rowspan=\"4\" valign=\"top\">70.0</th>\n",
       "      <th>2016-07-15</th>\n",
       "      <th>put</th>\n",
       "      <th>IBM160715P00070000</th>\n",
       "      <td>0.30</td>\n",
       "      <td>0.21</td>\n",
       "      <td>0.35</td>\n",
       "      <td>0.08</td>\n",
       "      <td>36.36%</td>\n",
       "      <td>15</td>\n",
       "      <td>10</td>\n",
       "      <td>46.63%</td>\n",
       "      <td>IBM</td>\n",
       "      <td>False</td>\n",
       "      <td>IBM</td>\n",
       "      <td>130.03</td>\n",
       "      <td>2016-01-18 16:03:00</td>\n",
       "    </tr>\n",
       "    <tr>\n",
       "      <th>2017-01-20</th>\n",
       "      <th>put</th>\n",
       "      <th>IBM170120P00070000</th>\n",
       "      <td>1.30</td>\n",
       "      <td>0.97</td>\n",
       "      <td>1.40</td>\n",
       "      <td>0.55</td>\n",
       "      <td>73.33%</td>\n",
       "      <td>48</td>\n",
       "      <td>118</td>\n",
       "      <td>43.12%</td>\n",
       "      <td>IBM</td>\n",
       "      <td>False</td>\n",
       "      <td>IBM</td>\n",
       "      <td>130.03</td>\n",
       "      <td>2016-01-18 16:03:00</td>\n",
       "    </tr>\n",
       "    <tr>\n",
       "      <th rowspan=\"2\" valign=\"top\">2018-01-19</th>\n",
       "      <th>call</th>\n",
       "      <th>IBM180119C00070000</th>\n",
       "      <td>63.00</td>\n",
       "      <td>57.50</td>\n",
       "      <td>62.50</td>\n",
       "      <td>0.00</td>\n",
       "      <td>0.00%</td>\n",
       "      <td>15</td>\n",
       "      <td>4</td>\n",
       "      <td>35.44%</td>\n",
       "      <td>IBM</td>\n",
       "      <td>False</td>\n",
       "      <td>IBM</td>\n",
       "      <td>130.03</td>\n",
       "      <td>2016-01-18 16:03:00</td>\n",
       "    </tr>\n",
       "    <tr>\n",
       "      <th>put</th>\n",
       "      <th>IBM180119P00070000</th>\n",
       "      <td>2.30</td>\n",
       "      <td>0.96</td>\n",
       "      <td>2.50</td>\n",
       "      <td>0.32</td>\n",
       "      <td>16.16%</td>\n",
       "      <td>2</td>\n",
       "      <td>97</td>\n",
       "      <td>35.62%</td>\n",
       "      <td>IBM</td>\n",
       "      <td>False</td>\n",
       "      <td>IBM</td>\n",
       "      <td>130.03</td>\n",
       "      <td>2016-01-18 16:03:00</td>\n",
       "    </tr>\n",
       "    <tr>\n",
       "      <th>75.0</th>\n",
       "      <th>2016-07-15</th>\n",
       "      <th>put</th>\n",
       "      <th>IBM160715P00075000</th>\n",
       "      <td>0.41</td>\n",
       "      <td>0.30</td>\n",
       "      <td>0.45</td>\n",
       "      <td>0.01</td>\n",
       "      <td>2.50%</td>\n",
       "      <td>166</td>\n",
       "      <td>3</td>\n",
       "      <td>43.95%</td>\n",
       "      <td>IBM</td>\n",
       "      <td>False</td>\n",
       "      <td>IBM</td>\n",
       "      <td>130.03</td>\n",
       "      <td>2016-01-18 16:03:00</td>\n",
       "    </tr>\n",
       "  </tbody>\n",
       "</table>\n",
       "</div>"
      ],
      "text/plain": [
       "                                            Last    Bid    Ask   Chg  PctChg  \\\n",
       "Strike Expiry     Type Symbol                                                  \n",
       "70.0   2016-07-15 put  IBM160715P00070000   0.30   0.21   0.35  0.08  36.36%   \n",
       "       2017-01-20 put  IBM170120P00070000   1.30   0.97   1.40  0.55  73.33%   \n",
       "       2018-01-19 call IBM180119C00070000  63.00  57.50  62.50  0.00   0.00%   \n",
       "                  put  IBM180119P00070000   2.30   0.96   2.50  0.32  16.16%   \n",
       "75.0   2016-07-15 put  IBM160715P00075000   0.41   0.30   0.45  0.01   2.50%   \n",
       "\n",
       "                                           Vol  Open_Int      IV Root  \\\n",
       "Strike Expiry     Type Symbol                                           \n",
       "70.0   2016-07-15 put  IBM160715P00070000   15        10  46.63%  IBM   \n",
       "       2017-01-20 put  IBM170120P00070000   48       118  43.12%  IBM   \n",
       "       2018-01-19 call IBM180119C00070000   15         4  35.44%  IBM   \n",
       "                  put  IBM180119P00070000    2        97  35.62%  IBM   \n",
       "75.0   2016-07-15 put  IBM160715P00075000  166         3  43.95%  IBM   \n",
       "\n",
       "                                           IsNonstandard Underlying  \\\n",
       "Strike Expiry     Type Symbol                                         \n",
       "70.0   2016-07-15 put  IBM160715P00070000          False        IBM   \n",
       "       2017-01-20 put  IBM170120P00070000          False        IBM   \n",
       "       2018-01-19 call IBM180119C00070000          False        IBM   \n",
       "                  put  IBM180119P00070000          False        IBM   \n",
       "75.0   2016-07-15 put  IBM160715P00075000          False        IBM   \n",
       "\n",
       "                                           Underlying_Price  \\\n",
       "Strike Expiry     Type Symbol                                 \n",
       "70.0   2016-07-15 put  IBM160715P00070000            130.03   \n",
       "       2017-01-20 put  IBM170120P00070000            130.03   \n",
       "       2018-01-19 call IBM180119C00070000            130.03   \n",
       "                  put  IBM180119P00070000            130.03   \n",
       "75.0   2016-07-15 put  IBM160715P00075000            130.03   \n",
       "\n",
       "                                                   Quote_Time  \n",
       "Strike Expiry     Type Symbol                                  \n",
       "70.0   2016-07-15 put  IBM160715P00070000 2016-01-18 16:03:00  \n",
       "       2017-01-20 put  IBM170120P00070000 2016-01-18 16:03:00  \n",
       "       2018-01-19 call IBM180119C00070000 2016-01-18 16:03:00  \n",
       "                  put  IBM180119P00070000 2016-01-18 16:03:00  \n",
       "75.0   2016-07-15 put  IBM160715P00075000 2016-01-18 16:03:00  "
      ]
     },
     "execution_count": 31,
     "metadata": {},
     "output_type": "execute_result"
    }
   ],
   "source": [
    "# and the first ten records\n",
    "options_frame.head()"
   ]
  },
  {
   "cell_type": "markdown",
   "metadata": {},
   "source": [
    "We're going to do some work to the `DataFrame` so that we can apply the Black-Scholes price and implied volatility to each of the options. So first let's do some clean up."
   ]
  },
  {
   "cell_type": "code",
   "execution_count": 32,
   "metadata": {},
   "outputs": [],
   "source": [
    "# reset the index so the strike and expiration become columns\n",
    "options_frame.reset_index(inplace=True)\n",
    "\n",
    "# rename the columns for consistency\n",
    "columns = {\n",
    "    \"Expiry\": \"Expiration\",\n",
    "    \"Type\": \"OptionType\",\n",
    "    \"Symbol\": \"OptionSymbol\",\n",
    "    \"Vol\": \"Volume\",\n",
    "    \"Open_Int\": \"OpenInterest\",\n",
    "    \"Underlying_Price\": \"UnderlyingPrice\",\n",
    "    \"Quote_Time\": \"QuoteDatetime\",\n",
    "    \"Underlying\": \"UnderlyingSymbol\",\n",
    "    \"Chg\": \"OptionChange\",\n",
    "}\n",
    "\n",
    "options_frame.rename(columns=columns, inplace=True)"
   ]
  },
  {
   "cell_type": "markdown",
   "metadata": {},
   "source": [
    "Let's define some helper functions that we will apply to the `DataFrame`. These will provide some of the inputs to the option valuation functions."
   ]
  },
  {
   "cell_type": "code",
   "execution_count": 33,
   "metadata": {},
   "outputs": [],
   "source": [
    "def _get_days_until_expiration(series):\n",
    "    \"\"\" Return the number of days until expiration\n",
    "\n",
    "    :param series: row of the dataframe, accessible by label\n",
    "    :return: days until expiration\n",
    "\n",
    "    \"\"\"\n",
    "\n",
    "    expiration = series[\"Expiration\"]\n",
    "\n",
    "    # add the hours to the expiration date so we get the math correct\n",
    "    date_str = expiration.strftime(\"%Y-%m-%d\") + \" 23:59:59\"\n",
    "\n",
    "    # convert date string into datetime object\n",
    "    expiry = dt.datetime.strptime(date_str, \"%Y-%m-%d %H:%M:%S\")\n",
    "\n",
    "    # get today\n",
    "    #   since we need to use a cached data source, revert to that date\n",
    "    #   today = dt.datetime.today()\n",
    "    today = dt.datetime(2016, 1, 18)\n",
    "\n",
    "    # return the difference and add one to count for today\n",
    "    return (expiry - today).days + 1"
   ]
  },
  {
   "cell_type": "code",
   "execution_count": 34,
   "metadata": {},
   "outputs": [],
   "source": [
    "def _get_time_fraction_until_expiration(series):\n",
    "    \"\"\" Return the fraction of a year until expiration\n",
    "    \n",
    "    You don't always have to be this precise. The difference in price\n",
    "    based on a few hours for long dated options or far OTM options\n",
    "    will not be affected. However for liquid, ATM options with short\n",
    "    expiration windows, every second counts!\n",
    "\n",
    "    :param series: row of the dataframe, accessible by label\n",
    "    :return: fraction of a year until expiration\n",
    "\n",
    "    \"\"\"\n",
    "\n",
    "    expiration = series[\"Expiration\"]\n",
    "\n",
    "    # add the hours to the expiration date so we get the math correct\n",
    "    date_str = expiration.strftime(\"%Y-%m-%d\") + \" 23:59:59\"\n",
    "\n",
    "    # convert date string into datetime object\n",
    "    time_tuple = time.strptime(date_str, \"%Y-%m-%d %H:%M:%S\")\n",
    "\n",
    "    # get the number of seconds from the epoch until expiration\n",
    "    expiry_in_seconds_from_epoch = time.mktime(time_tuple)\n",
    "\n",
    "    # get the number of seconds from the epoch to right now\n",
    "    #   since we need to use a cached data source, revert to that date\n",
    "    #   today = dt.datetime.today()\n",
    "    #   right_now_in_seconds_from_epoch = time.time()\n",
    "\n",
    "    right_now_in_seconds_from_epoch = dt.datetime(2016, 1, 18).timestamp()\n",
    "\n",
    "    # get the total number of seconds to expiration\n",
    "    seconds_until_expiration = (\n",
    "        expiry_in_seconds_from_epoch - right_now_in_seconds_from_epoch\n",
    "    )\n",
    "\n",
    "    # seconds in year\n",
    "    seconds_in_year = 31536000.0\n",
    "\n",
    "    # fraction of seconds to expiration to total in year, rounded\n",
    "    return max(seconds_until_expiration / seconds_in_year, 1e-10)"
   ]
  },
  {
   "cell_type": "code",
   "execution_count": 35,
   "metadata": {},
   "outputs": [],
   "source": [
    "# define terms and associated rates, these should coincide with our options\n",
    "# these rates are taken from the yield curve\n",
    "terms = [30, 3 * 30, 6 * 30, 12 * 30, 24 * 30, 36 * 30, 60 * 30]\n",
    "rates = [0.0001, 0.0009, 0.0032, 0.0067, 0.0097, 0.0144, 0.0184]\n",
    "\n",
    "\n",
    "def _get_rate(series):\n",
    "    \"\"\" Interpolate rates out to 30 years\n",
    "        Note computing rates like this is not strictly theoretically \n",
    "        correct but works for illustrative purposes\n",
    "    \n",
    "    :param series: row of the dataframe, accessable by label\n",
    "    :return interpolated interest rate based on term structure\n",
    "\n",
    "    \"\"\"\n",
    "    days = series[\"DaysUntilExpiration\"]\n",
    "\n",
    "    # generate terms for every thirty days up until our longest expiration\n",
    "    new_terms = [i for i in range(30, (60 * 30) + 1)]\n",
    "\n",
    "    # create linear interpolation model\n",
    "    f = interp1d(terms, rates, kind=\"linear\")\n",
    "\n",
    "    # interpolate the values based on the new terms we created above\n",
    "    ff = f(new_terms)\n",
    "\n",
    "    # return the interpolated rate given the days to expiration\n",
    "    return round(ff[max(days, 30) - 30], 8)\n",
    "\n",
    "\n",
    "def _get_mid(series):\n",
    "    \"\"\" Get the mid price between bid and ask\n",
    "    \n",
    "    :param series: row of the dataframe, accessable by label\n",
    "    :return mid price\n",
    "\n",
    "    \"\"\"\n",
    "    bid = series[\"Bid\"]\n",
    "    ask = series[\"Ask\"]\n",
    "    last = series[\"Last\"]\n",
    "\n",
    "    # if the bid or ask doesn't exist, return 0.0\n",
    "    if np.isnan(ask) or np.isnan(bid):\n",
    "        return 0.0\n",
    "\n",
    "    # if the bid or ask are 0.0, return the last traded price\n",
    "    elif ask == 0.0 or bid == 0.0:\n",
    "        return last\n",
    "    else:\n",
    "        return (ask + bid) / 2.0"
   ]
  },
  {
   "cell_type": "markdown",
   "metadata": {},
   "source": [
    "We can apply these functions to each row of the `DataFrame` by setting the `axis` argument to `1` `apply` method."
   ]
  },
  {
   "cell_type": "code",
   "execution_count": 36,
   "metadata": {},
   "outputs": [],
   "source": [
    "# use the apply method to pass each row as a series to the various methods, returns a series in this case\n",
    "options_frame[\"DaysUntilExpiration\"] = options_frame.apply(\n",
    "    _get_days_until_expiration, axis=1\n",
    ")\n",
    "options_frame[\"TimeUntilExpiration\"] = options_frame.apply(\n",
    "    _get_time_fraction_until_expiration, axis=1\n",
    ")\n",
    "options_frame[\"InterestRate\"] = options_frame.apply(_get_rate, axis=1)\n",
    "options_frame[\"Mid\"] = options_frame.apply(_get_mid, axis=1)"
   ]
  },
  {
   "cell_type": "markdown",
   "metadata": {},
   "source": [
    "Let's see what we've done."
   ]
  },
  {
   "cell_type": "code",
   "execution_count": 37,
   "metadata": {},
   "outputs": [
    {
     "name": "stdout",
     "output_type": "stream",
     "text": [
      "<class 'pandas.core.frame.DataFrame'>\n",
      "RangeIndex: 519 entries, 0 to 518\n",
      "Data columns (total 21 columns):\n",
      " #   Column               Non-Null Count  Dtype         \n",
      "---  ------               --------------  -----         \n",
      " 0   Strike               519 non-null    float64       \n",
      " 1   Expiration           519 non-null    datetime64[ns]\n",
      " 2   OptionType           519 non-null    object        \n",
      " 3   OptionSymbol         519 non-null    object        \n",
      " 4   Last                 519 non-null    float64       \n",
      " 5   Bid                  519 non-null    float64       \n",
      " 6   Ask                  519 non-null    float64       \n",
      " 7   OptionChange         519 non-null    float64       \n",
      " 8   PctChg               519 non-null    object        \n",
      " 9   Volume               519 non-null    int64         \n",
      " 10  OpenInterest         519 non-null    int64         \n",
      " 11  IV                   519 non-null    object        \n",
      " 12  Root                 519 non-null    object        \n",
      " 13  IsNonstandard        519 non-null    bool          \n",
      " 14  UnderlyingSymbol     519 non-null    object        \n",
      " 15  UnderlyingPrice      519 non-null    float64       \n",
      " 16  QuoteDatetime        519 non-null    datetime64[ns]\n",
      " 17  DaysUntilExpiration  519 non-null    int64         \n",
      " 18  TimeUntilExpiration  519 non-null    float64       \n",
      " 19  InterestRate         519 non-null    float64       \n",
      " 20  Mid                  519 non-null    float64       \n",
      "dtypes: bool(1), datetime64[ns](2), float64(9), int64(3), object(6)\n",
      "memory usage: 81.7+ KB\n"
     ]
    }
   ],
   "source": [
    "options_frame.info()"
   ]
  },
  {
   "cell_type": "code",
   "execution_count": 38,
   "metadata": {
    "scrolled": false
   },
   "outputs": [
    {
     "data": {
      "text/html": [
       "<div>\n",
       "<style scoped>\n",
       "    .dataframe tbody tr th:only-of-type {\n",
       "        vertical-align: middle;\n",
       "    }\n",
       "\n",
       "    .dataframe tbody tr th {\n",
       "        vertical-align: top;\n",
       "    }\n",
       "\n",
       "    .dataframe thead th {\n",
       "        text-align: right;\n",
       "    }\n",
       "</style>\n",
       "<table border=\"1\" class=\"dataframe\">\n",
       "  <thead>\n",
       "    <tr style=\"text-align: right;\">\n",
       "      <th></th>\n",
       "      <th>Strike</th>\n",
       "      <th>Expiration</th>\n",
       "      <th>OptionType</th>\n",
       "      <th>OptionSymbol</th>\n",
       "      <th>Last</th>\n",
       "      <th>Bid</th>\n",
       "      <th>Ask</th>\n",
       "      <th>OptionChange</th>\n",
       "      <th>PctChg</th>\n",
       "      <th>Volume</th>\n",
       "      <th>...</th>\n",
       "      <th>IV</th>\n",
       "      <th>Root</th>\n",
       "      <th>IsNonstandard</th>\n",
       "      <th>UnderlyingSymbol</th>\n",
       "      <th>UnderlyingPrice</th>\n",
       "      <th>QuoteDatetime</th>\n",
       "      <th>DaysUntilExpiration</th>\n",
       "      <th>TimeUntilExpiration</th>\n",
       "      <th>InterestRate</th>\n",
       "      <th>Mid</th>\n",
       "    </tr>\n",
       "  </thead>\n",
       "  <tbody>\n",
       "    <tr>\n",
       "      <th>0</th>\n",
       "      <td>70.0</td>\n",
       "      <td>2016-07-15</td>\n",
       "      <td>put</td>\n",
       "      <td>IBM160715P00070000</td>\n",
       "      <td>0.30</td>\n",
       "      <td>0.21</td>\n",
       "      <td>0.35</td>\n",
       "      <td>0.08</td>\n",
       "      <td>36.36%</td>\n",
       "      <td>15</td>\n",
       "      <td>...</td>\n",
       "      <td>46.63%</td>\n",
       "      <td>IBM</td>\n",
       "      <td>False</td>\n",
       "      <td>IBM</td>\n",
       "      <td>130.03</td>\n",
       "      <td>2016-01-18 16:03:00</td>\n",
       "      <td>180</td>\n",
       "      <td>0.493151</td>\n",
       "      <td>0.003200</td>\n",
       "      <td>0.280</td>\n",
       "    </tr>\n",
       "    <tr>\n",
       "      <th>1</th>\n",
       "      <td>70.0</td>\n",
       "      <td>2017-01-20</td>\n",
       "      <td>put</td>\n",
       "      <td>IBM170120P00070000</td>\n",
       "      <td>1.30</td>\n",
       "      <td>0.97</td>\n",
       "      <td>1.40</td>\n",
       "      <td>0.55</td>\n",
       "      <td>73.33%</td>\n",
       "      <td>48</td>\n",
       "      <td>...</td>\n",
       "      <td>43.12%</td>\n",
       "      <td>IBM</td>\n",
       "      <td>False</td>\n",
       "      <td>IBM</td>\n",
       "      <td>130.03</td>\n",
       "      <td>2016-01-18 16:03:00</td>\n",
       "      <td>369</td>\n",
       "      <td>1.010959</td>\n",
       "      <td>0.006775</td>\n",
       "      <td>1.185</td>\n",
       "    </tr>\n",
       "    <tr>\n",
       "      <th>2</th>\n",
       "      <td>70.0</td>\n",
       "      <td>2018-01-19</td>\n",
       "      <td>call</td>\n",
       "      <td>IBM180119C00070000</td>\n",
       "      <td>63.00</td>\n",
       "      <td>57.50</td>\n",
       "      <td>62.50</td>\n",
       "      <td>0.00</td>\n",
       "      <td>0.00%</td>\n",
       "      <td>15</td>\n",
       "      <td>...</td>\n",
       "      <td>35.44%</td>\n",
       "      <td>IBM</td>\n",
       "      <td>False</td>\n",
       "      <td>IBM</td>\n",
       "      <td>130.03</td>\n",
       "      <td>2016-01-18 16:03:00</td>\n",
       "      <td>733</td>\n",
       "      <td>2.008219</td>\n",
       "      <td>0.009870</td>\n",
       "      <td>60.000</td>\n",
       "    </tr>\n",
       "    <tr>\n",
       "      <th>3</th>\n",
       "      <td>70.0</td>\n",
       "      <td>2018-01-19</td>\n",
       "      <td>put</td>\n",
       "      <td>IBM180119P00070000</td>\n",
       "      <td>2.30</td>\n",
       "      <td>0.96</td>\n",
       "      <td>2.50</td>\n",
       "      <td>0.32</td>\n",
       "      <td>16.16%</td>\n",
       "      <td>2</td>\n",
       "      <td>...</td>\n",
       "      <td>35.62%</td>\n",
       "      <td>IBM</td>\n",
       "      <td>False</td>\n",
       "      <td>IBM</td>\n",
       "      <td>130.03</td>\n",
       "      <td>2016-01-18 16:03:00</td>\n",
       "      <td>733</td>\n",
       "      <td>2.008219</td>\n",
       "      <td>0.009870</td>\n",
       "      <td>1.730</td>\n",
       "    </tr>\n",
       "    <tr>\n",
       "      <th>4</th>\n",
       "      <td>75.0</td>\n",
       "      <td>2016-07-15</td>\n",
       "      <td>put</td>\n",
       "      <td>IBM160715P00075000</td>\n",
       "      <td>0.41</td>\n",
       "      <td>0.30</td>\n",
       "      <td>0.45</td>\n",
       "      <td>0.01</td>\n",
       "      <td>2.50%</td>\n",
       "      <td>166</td>\n",
       "      <td>...</td>\n",
       "      <td>43.95%</td>\n",
       "      <td>IBM</td>\n",
       "      <td>False</td>\n",
       "      <td>IBM</td>\n",
       "      <td>130.03</td>\n",
       "      <td>2016-01-18 16:03:00</td>\n",
       "      <td>180</td>\n",
       "      <td>0.493151</td>\n",
       "      <td>0.003200</td>\n",
       "      <td>0.375</td>\n",
       "    </tr>\n",
       "  </tbody>\n",
       "</table>\n",
       "<p>5 rows × 21 columns</p>\n",
       "</div>"
      ],
      "text/plain": [
       "   Strike Expiration OptionType        OptionSymbol   Last    Bid    Ask  \\\n",
       "0    70.0 2016-07-15        put  IBM160715P00070000   0.30   0.21   0.35   \n",
       "1    70.0 2017-01-20        put  IBM170120P00070000   1.30   0.97   1.40   \n",
       "2    70.0 2018-01-19       call  IBM180119C00070000  63.00  57.50  62.50   \n",
       "3    70.0 2018-01-19        put  IBM180119P00070000   2.30   0.96   2.50   \n",
       "4    75.0 2016-07-15        put  IBM160715P00075000   0.41   0.30   0.45   \n",
       "\n",
       "   OptionChange  PctChg  Volume  ...      IV Root IsNonstandard  \\\n",
       "0          0.08  36.36%      15  ...  46.63%  IBM         False   \n",
       "1          0.55  73.33%      48  ...  43.12%  IBM         False   \n",
       "2          0.00   0.00%      15  ...  35.44%  IBM         False   \n",
       "3          0.32  16.16%       2  ...  35.62%  IBM         False   \n",
       "4          0.01   2.50%     166  ...  43.95%  IBM         False   \n",
       "\n",
       "   UnderlyingSymbol UnderlyingPrice       QuoteDatetime DaysUntilExpiration  \\\n",
       "0               IBM          130.03 2016-01-18 16:03:00                 180   \n",
       "1               IBM          130.03 2016-01-18 16:03:00                 369   \n",
       "2               IBM          130.03 2016-01-18 16:03:00                 733   \n",
       "3               IBM          130.03 2016-01-18 16:03:00                 733   \n",
       "4               IBM          130.03 2016-01-18 16:03:00                 180   \n",
       "\n",
       "   TimeUntilExpiration  InterestRate     Mid  \n",
       "0             0.493151      0.003200   0.280  \n",
       "1             1.010959      0.006775   1.185  \n",
       "2             2.008219      0.009870  60.000  \n",
       "3             2.008219      0.009870   1.730  \n",
       "4             0.493151      0.003200   0.375  \n",
       "\n",
       "[5 rows x 21 columns]"
      ]
     },
     "execution_count": 38,
     "metadata": {},
     "output_type": "execute_result"
    }
   ],
   "source": [
    "options_frame.head()"
   ]
  },
  {
   "cell_type": "markdown",
   "metadata": {},
   "source": [
    "# Applying Implied Volatility"
   ]
  },
  {
   "cell_type": "markdown",
   "metadata": {},
   "source": [
    "We now have all the input parameters we need to follow the same procedure to add the Black-Scholes price and the associated greeks. We'll begin as before by defining the functions we'll apply. Note that we have to compute the implied volatiltiy first which we'll use as the $vol$ input to the Black-Scholes formula. It is common practice to use the Black-Scholes formula to compute the implied volalatility then to use that result to compute the greeks.\n",
    "\n",
    "We'll take the mid price (price between bid and ask) as this is generally considered the most representative price to use. As we'll see, there will be issues with the result which we'll have to clean."
   ]
  },
  {
   "cell_type": "code",
   "execution_count": 39,
   "metadata": {},
   "outputs": [],
   "source": [
    "def _get_implied_vol_mid(series):\n",
    "    \"\"\"\n",
    "\n",
    "    \"\"\"\n",
    "    option_type = series[\"OptionType\"]\n",
    "    S = series[\"UnderlyingPrice\"]\n",
    "    K = series[\"Strike\"]\n",
    "    r = series[\"InterestRate\"]\n",
    "    t = series[\"TimeUntilExpiration\"]\n",
    "    mid = series[\"Mid\"]\n",
    "\n",
    "    # build method name\n",
    "    meth_name = \"{0}_implied_volatility\".format(option_type)\n",
    "\n",
    "    # call from globals()\n",
    "    return float(globals().get(meth_name)(S, K, r, t, mid))"
   ]
  },
  {
   "cell_type": "code",
   "execution_count": 40,
   "metadata": {},
   "outputs": [],
   "source": [
    "# apply the function to the dataframe rowwise\n",
    "options_frame[\"ImpliedVolatilityMid\"] = options_frame.apply(\n",
    "    _get_implied_vol_mid, axis=1\n",
    ")"
   ]
  },
  {
   "cell_type": "code",
   "execution_count": 41,
   "metadata": {},
   "outputs": [
    {
     "name": "stdout",
     "output_type": "stream",
     "text": [
      "<class 'pandas.core.frame.DataFrame'>\n",
      "RangeIndex: 519 entries, 0 to 518\n",
      "Data columns (total 22 columns):\n",
      " #   Column                Non-Null Count  Dtype         \n",
      "---  ------                --------------  -----         \n",
      " 0   Strike                519 non-null    float64       \n",
      " 1   Expiration            519 non-null    datetime64[ns]\n",
      " 2   OptionType            519 non-null    object        \n",
      " 3   OptionSymbol          519 non-null    object        \n",
      " 4   Last                  519 non-null    float64       \n",
      " 5   Bid                   519 non-null    float64       \n",
      " 6   Ask                   519 non-null    float64       \n",
      " 7   OptionChange          519 non-null    float64       \n",
      " 8   PctChg                519 non-null    object        \n",
      " 9   Volume                519 non-null    int64         \n",
      " 10  OpenInterest          519 non-null    int64         \n",
      " 11  IV                    519 non-null    object        \n",
      " 12  Root                  519 non-null    object        \n",
      " 13  IsNonstandard         519 non-null    bool          \n",
      " 14  UnderlyingSymbol      519 non-null    object        \n",
      " 15  UnderlyingPrice       519 non-null    float64       \n",
      " 16  QuoteDatetime         519 non-null    datetime64[ns]\n",
      " 17  DaysUntilExpiration   519 non-null    int64         \n",
      " 18  TimeUntilExpiration   519 non-null    float64       \n",
      " 19  InterestRate          519 non-null    float64       \n",
      " 20  Mid                   519 non-null    float64       \n",
      " 21  ImpliedVolatilityMid  507 non-null    float64       \n",
      "dtypes: bool(1), datetime64[ns](2), float64(10), int64(3), object(6)\n",
      "memory usage: 85.8+ KB\n"
     ]
    }
   ],
   "source": [
    "# again, let's take a look\n",
    "options_frame.info()"
   ]
  },
  {
   "cell_type": "code",
   "execution_count": 42,
   "metadata": {},
   "outputs": [
    {
     "data": {
      "text/html": [
       "<div>\n",
       "<style scoped>\n",
       "    .dataframe tbody tr th:only-of-type {\n",
       "        vertical-align: middle;\n",
       "    }\n",
       "\n",
       "    .dataframe tbody tr th {\n",
       "        vertical-align: top;\n",
       "    }\n",
       "\n",
       "    .dataframe thead th {\n",
       "        text-align: right;\n",
       "    }\n",
       "</style>\n",
       "<table border=\"1\" class=\"dataframe\">\n",
       "  <thead>\n",
       "    <tr style=\"text-align: right;\">\n",
       "      <th></th>\n",
       "      <th>Strike</th>\n",
       "      <th>Expiration</th>\n",
       "      <th>OptionType</th>\n",
       "      <th>OptionSymbol</th>\n",
       "      <th>Last</th>\n",
       "      <th>Bid</th>\n",
       "      <th>Ask</th>\n",
       "      <th>OptionChange</th>\n",
       "      <th>PctChg</th>\n",
       "      <th>Volume</th>\n",
       "      <th>...</th>\n",
       "      <th>Root</th>\n",
       "      <th>IsNonstandard</th>\n",
       "      <th>UnderlyingSymbol</th>\n",
       "      <th>UnderlyingPrice</th>\n",
       "      <th>QuoteDatetime</th>\n",
       "      <th>DaysUntilExpiration</th>\n",
       "      <th>TimeUntilExpiration</th>\n",
       "      <th>InterestRate</th>\n",
       "      <th>Mid</th>\n",
       "      <th>ImpliedVolatilityMid</th>\n",
       "    </tr>\n",
       "  </thead>\n",
       "  <tbody>\n",
       "    <tr>\n",
       "      <th>0</th>\n",
       "      <td>70.0</td>\n",
       "      <td>2016-07-15</td>\n",
       "      <td>put</td>\n",
       "      <td>IBM160715P00070000</td>\n",
       "      <td>0.30</td>\n",
       "      <td>0.21</td>\n",
       "      <td>0.35</td>\n",
       "      <td>0.08</td>\n",
       "      <td>36.36%</td>\n",
       "      <td>15</td>\n",
       "      <td>...</td>\n",
       "      <td>IBM</td>\n",
       "      <td>False</td>\n",
       "      <td>IBM</td>\n",
       "      <td>130.03</td>\n",
       "      <td>2016-01-18 16:03:00</td>\n",
       "      <td>180</td>\n",
       "      <td>0.493151</td>\n",
       "      <td>0.003200</td>\n",
       "      <td>0.280</td>\n",
       "      <td>0.450436</td>\n",
       "    </tr>\n",
       "    <tr>\n",
       "      <th>1</th>\n",
       "      <td>70.0</td>\n",
       "      <td>2017-01-20</td>\n",
       "      <td>put</td>\n",
       "      <td>IBM170120P00070000</td>\n",
       "      <td>1.30</td>\n",
       "      <td>0.97</td>\n",
       "      <td>1.40</td>\n",
       "      <td>0.55</td>\n",
       "      <td>73.33%</td>\n",
       "      <td>48</td>\n",
       "      <td>...</td>\n",
       "      <td>IBM</td>\n",
       "      <td>False</td>\n",
       "      <td>IBM</td>\n",
       "      <td>130.03</td>\n",
       "      <td>2016-01-18 16:03:00</td>\n",
       "      <td>369</td>\n",
       "      <td>1.010959</td>\n",
       "      <td>0.006775</td>\n",
       "      <td>1.185</td>\n",
       "      <td>0.418423</td>\n",
       "    </tr>\n",
       "    <tr>\n",
       "      <th>2</th>\n",
       "      <td>70.0</td>\n",
       "      <td>2018-01-19</td>\n",
       "      <td>call</td>\n",
       "      <td>IBM180119C00070000</td>\n",
       "      <td>63.00</td>\n",
       "      <td>57.50</td>\n",
       "      <td>62.50</td>\n",
       "      <td>0.00</td>\n",
       "      <td>0.00%</td>\n",
       "      <td>15</td>\n",
       "      <td>...</td>\n",
       "      <td>IBM</td>\n",
       "      <td>False</td>\n",
       "      <td>IBM</td>\n",
       "      <td>130.03</td>\n",
       "      <td>2016-01-18 16:03:00</td>\n",
       "      <td>733</td>\n",
       "      <td>2.008219</td>\n",
       "      <td>0.009870</td>\n",
       "      <td>60.000</td>\n",
       "      <td>NaN</td>\n",
       "    </tr>\n",
       "    <tr>\n",
       "      <th>3</th>\n",
       "      <td>70.0</td>\n",
       "      <td>2018-01-19</td>\n",
       "      <td>put</td>\n",
       "      <td>IBM180119P00070000</td>\n",
       "      <td>2.30</td>\n",
       "      <td>0.96</td>\n",
       "      <td>2.50</td>\n",
       "      <td>0.32</td>\n",
       "      <td>16.16%</td>\n",
       "      <td>2</td>\n",
       "      <td>...</td>\n",
       "      <td>IBM</td>\n",
       "      <td>False</td>\n",
       "      <td>IBM</td>\n",
       "      <td>130.03</td>\n",
       "      <td>2016-01-18 16:03:00</td>\n",
       "      <td>733</td>\n",
       "      <td>2.008219</td>\n",
       "      <td>0.009870</td>\n",
       "      <td>1.730</td>\n",
       "      <td>0.330995</td>\n",
       "    </tr>\n",
       "    <tr>\n",
       "      <th>4</th>\n",
       "      <td>75.0</td>\n",
       "      <td>2016-07-15</td>\n",
       "      <td>put</td>\n",
       "      <td>IBM160715P00075000</td>\n",
       "      <td>0.41</td>\n",
       "      <td>0.30</td>\n",
       "      <td>0.45</td>\n",
       "      <td>0.01</td>\n",
       "      <td>2.50%</td>\n",
       "      <td>166</td>\n",
       "      <td>...</td>\n",
       "      <td>IBM</td>\n",
       "      <td>False</td>\n",
       "      <td>IBM</td>\n",
       "      <td>130.03</td>\n",
       "      <td>2016-01-18 16:03:00</td>\n",
       "      <td>180</td>\n",
       "      <td>0.493151</td>\n",
       "      <td>0.003200</td>\n",
       "      <td>0.375</td>\n",
       "      <td>0.426392</td>\n",
       "    </tr>\n",
       "  </tbody>\n",
       "</table>\n",
       "<p>5 rows × 22 columns</p>\n",
       "</div>"
      ],
      "text/plain": [
       "   Strike Expiration OptionType        OptionSymbol   Last    Bid    Ask  \\\n",
       "0    70.0 2016-07-15        put  IBM160715P00070000   0.30   0.21   0.35   \n",
       "1    70.0 2017-01-20        put  IBM170120P00070000   1.30   0.97   1.40   \n",
       "2    70.0 2018-01-19       call  IBM180119C00070000  63.00  57.50  62.50   \n",
       "3    70.0 2018-01-19        put  IBM180119P00070000   2.30   0.96   2.50   \n",
       "4    75.0 2016-07-15        put  IBM160715P00075000   0.41   0.30   0.45   \n",
       "\n",
       "   OptionChange  PctChg  Volume  ...  Root IsNonstandard UnderlyingSymbol  \\\n",
       "0          0.08  36.36%      15  ...   IBM         False              IBM   \n",
       "1          0.55  73.33%      48  ...   IBM         False              IBM   \n",
       "2          0.00   0.00%      15  ...   IBM         False              IBM   \n",
       "3          0.32  16.16%       2  ...   IBM         False              IBM   \n",
       "4          0.01   2.50%     166  ...   IBM         False              IBM   \n",
       "\n",
       "   UnderlyingPrice       QuoteDatetime  DaysUntilExpiration  \\\n",
       "0           130.03 2016-01-18 16:03:00                  180   \n",
       "1           130.03 2016-01-18 16:03:00                  369   \n",
       "2           130.03 2016-01-18 16:03:00                  733   \n",
       "3           130.03 2016-01-18 16:03:00                  733   \n",
       "4           130.03 2016-01-18 16:03:00                  180   \n",
       "\n",
       "  TimeUntilExpiration  InterestRate     Mid  ImpliedVolatilityMid  \n",
       "0            0.493151      0.003200   0.280              0.450436  \n",
       "1            1.010959      0.006775   1.185              0.418423  \n",
       "2            2.008219      0.009870  60.000                   NaN  \n",
       "3            2.008219      0.009870   1.730              0.330995  \n",
       "4            0.493151      0.003200   0.375              0.426392  \n",
       "\n",
       "[5 rows x 22 columns]"
      ]
     },
     "execution_count": 42,
     "metadata": {},
     "output_type": "execute_result"
    }
   ],
   "source": [
    "options_frame.head()"
   ]
  },
  {
   "cell_type": "markdown",
   "metadata": {},
   "source": [
    "# Interpolating Missing and Bad Implied Volatility Values\n",
    "\n",
    "In the `call_implied_volatility` and `put_implied_volatility` functions we test for the Brentq solver blowing up. The solver will blow up if the option's mid price leads to a negative implied volatility. This happens with deep in or out of the money options where market makers keep the bid-ask spread wide.\n",
    "\n",
    "Let's find the options where the implied volatility is `np.nan`."
   ]
  },
  {
   "cell_type": "code",
   "execution_count": 43,
   "metadata": {},
   "outputs": [],
   "source": [
    "bad_iv = options_frame[np.isnan(options_frame[\"ImpliedVolatilityMid\"])]"
   ]
  },
  {
   "cell_type": "code",
   "execution_count": 44,
   "metadata": {},
   "outputs": [
    {
     "data": {
      "text/plain": [
       "Strike\n",
       "70.0     1\n",
       "75.0     1\n",
       "80.0     3\n",
       "85.0     2\n",
       "90.0     2\n",
       "100.0    2\n",
       "105.0    1\n",
       "Name: Expiration, dtype: int64"
      ]
     },
     "execution_count": 44,
     "metadata": {},
     "output_type": "execute_result"
    }
   ],
   "source": [
    "# map the count function to each strike where there is a nan implied volatility\n",
    "bad_iv.groupby([\"Strike\"]).count()[\"Expiration\"]"
   ]
  },
  {
   "cell_type": "markdown",
   "metadata": {},
   "source": [
    "Now we'll interpolate the missing implied volatility values. There are *much* more sophisticated ways of doing this (see [here](http://blog.nag.com/2013/10/implied-volatility-using-pythons-pandas.html) for example). In fact this is where professional options traders make their money. Firms will spend untold millions of dollars to build better models than the competition.\n",
    "\n",
    "We'll use simple linear interpolation to prove the technique.\n",
    "\n",
    "First we'll define the function which we'll pass the frame to."
   ]
  },
  {
   "cell_type": "code",
   "execution_count": 45,
   "metadata": {},
   "outputs": [],
   "source": [
    "def _interp_implied_volatility(options_frame):\n",
    "    \"\"\" Interpolate missing (np.nan) values of implied volatility\n",
    "    We first need to split the chains into expiration and type because we cannot\n",
    "    interpolate across the entire chain, rather within these two groups\n",
    "    \n",
    "    :param options_frame: DataFrame containing options data\n",
    "    :return original DataFrame with ImpliedVolatilityMid column containing interpolated values\n",
    "\n",
    "    \"\"\"\n",
    "    # create a MultiIndex with Expiration, OptionType, the Strike as index, then sort\n",
    "    frame = options_frame.set_index([\"Expiration\", \"OptionType\", \"Strike\"]).sort_index()\n",
    "\n",
    "    # pivot the frame with ImpliedVolatilityMid as the values within the table\n",
    "    # this has Strikes along the rows and Expirations along the columns\n",
    "    # the level=1 unstack pivots on Expiration and level=0 unstack pivots on OptionType\n",
    "    unstacked = frame[\"ImpliedVolatilityMid\"].unstack(level=1).unstack(level=0)\n",
    "\n",
    "    # this line does three things:\n",
    "    #    first interpolates across each Expiration date down the strikes for np.nan values\n",
    "    #    second forward fills values which keeps the last interpolated value as the value to fill\n",
    "    #    third back fills values which keeps the first interpolated value as the value to fill\n",
    "    unstacked_interp = unstacked.interpolate().ffill().bfill()\n",
    "\n",
    "    # restack into shape of original DataFrame\n",
    "    unstacked_interp_indexed = (\n",
    "        unstacked_interp.stack(level=0).stack(level=0).reset_index()\n",
    "    )\n",
    "\n",
    "    # replace old column with the new column with interpolated and filled values\n",
    "    frame[\"ImpliedVolatilityMid\"] = unstacked_interp_indexed.set_index(\n",
    "        [\"Expiration\", \"OptionType\", \"Strike\"]\n",
    "    )\n",
    "\n",
    "    # give our index back\n",
    "    frame.reset_index(inplace=True)\n",
    "\n",
    "    # return\n",
    "    return frame"
   ]
  },
  {
   "cell_type": "code",
   "execution_count": 46,
   "metadata": {},
   "outputs": [],
   "source": [
    "# get the completed frame\n",
    "options_frame = _interp_implied_volatility(options_frame)"
   ]
  },
  {
   "cell_type": "code",
   "execution_count": 47,
   "metadata": {},
   "outputs": [],
   "source": [
    "# check to see if there are any np.nans\n",
    "bad_iv_post = options_frame[np.isnan(options_frame[\"ImpliedVolatilityMid\"])]"
   ]
  },
  {
   "cell_type": "markdown",
   "metadata": {},
   "source": [
    "There should now be no missing data for implied volatility."
   ]
  },
  {
   "cell_type": "code",
   "execution_count": 48,
   "metadata": {},
   "outputs": [
    {
     "data": {
      "text/plain": [
       "Series([], Name: Expiration, dtype: int64)"
      ]
     },
     "execution_count": 48,
     "metadata": {},
     "output_type": "execute_result"
    }
   ],
   "source": [
    "bad_iv_post.groupby([\"Strike\"]).count()[\"Expiration\"]"
   ]
  },
  {
   "cell_type": "markdown",
   "metadata": {},
   "source": [
    "# Applying Black-Scholes and the greeks\n",
    "\n",
    "Before we take a look at the implied volatility, let's apply the Black-Scholes formula and the associated greeks. First we define the functions we'll apply to the frame."
   ]
  },
  {
   "cell_type": "code",
   "execution_count": 49,
   "metadata": {},
   "outputs": [],
   "source": [
    "def _get_option_value(series):\n",
    "    \"\"\" Return the option value given the OptionType\n",
    "\n",
    "    :param series: row of the dataframe, accessible by label\n",
    "    :return: Black-Scholes option value\n",
    "\n",
    "    \"\"\"\n",
    "    option_type = series[\"OptionType\"]\n",
    "    S = series[\"UnderlyingPrice\"]\n",
    "    K = series[\"Strike\"]\n",
    "    r = series[\"InterestRate\"]\n",
    "    t = series[\"TimeUntilExpiration\"]\n",
    "    vol = series[\"ImpliedVolatilityMid\"]\n",
    "\n",
    "    meth_name = \"black_scholes_{0}_value\".format(option_type)\n",
    "    return float(globals().get(meth_name)(S, K, r, t, vol))\n",
    "\n",
    "\n",
    "def _get_delta(series):\n",
    "    \"\"\" Return the option delta given the OptionType\n",
    "\n",
    "    :param series: row of the dataframe, accessible by label\n",
    "    :return: option delta\n",
    "\n",
    "    \"\"\"\n",
    "    option_type = series[\"OptionType\"]\n",
    "    S = series[\"UnderlyingPrice\"]\n",
    "    K = series[\"Strike\"]\n",
    "    r = series[\"InterestRate\"]\n",
    "    t = series[\"TimeUntilExpiration\"]\n",
    "    vol = series[\"ImpliedVolatilityMid\"]\n",
    "\n",
    "    meth_name = \"{0}_delta\".format(option_type)\n",
    "    return float(globals().get(meth_name)(S, K, r, t, vol))\n",
    "\n",
    "\n",
    "def _get_gamma(series):\n",
    "    \"\"\" Return the option gamma\n",
    "\n",
    "    :param series: row of the dataframe, accessible by label\n",
    "    :return: option gamma\n",
    "\n",
    "    \"\"\"\n",
    "    S = series[\"UnderlyingPrice\"]\n",
    "    K = series[\"Strike\"]\n",
    "    r = series[\"InterestRate\"]\n",
    "    t = series[\"TimeUntilExpiration\"]\n",
    "    vol = series[\"ImpliedVolatilityMid\"]\n",
    "\n",
    "    return float(gamma(S, K, r, t, vol))"
   ]
  },
  {
   "cell_type": "code",
   "execution_count": 50,
   "metadata": {},
   "outputs": [],
   "source": [
    "def _get_vega(series):\n",
    "    \"\"\" Return the option vega\n",
    "\n",
    "    :param series: row of the dataframe, accessible by label\n",
    "    :return: option vega\n",
    "\n",
    "    \"\"\"\n",
    "    S = series[\"UnderlyingPrice\"]\n",
    "    K = series[\"Strike\"]\n",
    "    r = series[\"InterestRate\"]\n",
    "    t = series[\"TimeUntilExpiration\"]\n",
    "    vol = series[\"ImpliedVolatilityMid\"]\n",
    "\n",
    "    return float(vega(S, K, r, t, vol))\n",
    "\n",
    "\n",
    "def _get_theta(series):\n",
    "    \"\"\" Return the option theta given the OptionType\n",
    "\n",
    "    :param series: row of the dataframe, accessible by label\n",
    "    :return: option theta\n",
    "\n",
    "    \"\"\"\n",
    "    option_type = series[\"OptionType\"]\n",
    "    S = series[\"UnderlyingPrice\"]\n",
    "    K = series[\"Strike\"]\n",
    "    r = series[\"InterestRate\"]\n",
    "    t = series[\"TimeUntilExpiration\"]\n",
    "    vol = series[\"ImpliedVolatilityMid\"]\n",
    "\n",
    "    meth_name = \"{0}_theta\".format(option_type)\n",
    "    return float(globals().get(meth_name)(S, K, r, t, vol))\n",
    "\n",
    "\n",
    "def _get_rho(series):\n",
    "    \"\"\" Return the option rho given the OptionType\n",
    "\n",
    "    :param series: row of the dataframe, accessible by label\n",
    "    :return: option rho\n",
    "\n",
    "    \"\"\"\n",
    "    option_type = series[\"OptionType\"]\n",
    "    S = series[\"UnderlyingPrice\"]\n",
    "    K = series[\"Strike\"]\n",
    "    r = series[\"InterestRate\"]\n",
    "    t = series[\"TimeUntilExpiration\"]\n",
    "    vol = series[\"ImpliedVolatilityMid\"]\n",
    "\n",
    "    meth_name = \"{0}_rho\".format(option_type)\n",
    "    return float(globals().get(meth_name)(S, K, r, t, vol))"
   ]
  },
  {
   "cell_type": "code",
   "execution_count": 51,
   "metadata": {},
   "outputs": [],
   "source": [
    "def _get_model_error(series):\n",
    "    \"\"\" Return the error between mid price and model price\n",
    "\n",
    "    :param series: row of the dataframe, accessible by label\n",
    "    :return: error between mid price and model price\n",
    "\n",
    "    \"\"\"\n",
    "    option_mid = series[\"Mid\"]\n",
    "\n",
    "    return option_mid - _get_option_value(series)\n",
    "\n",
    "# use the apply method to pass each row as a series to the various methods, returns a series in this case\n",
    "options_frame[\"TheoreticalValue\"] = options_frame.apply(_get_option_value, axis=1)\n",
    "options_frame[\"Delta\"] = options_frame.apply(_get_delta, axis=1)\n",
    "options_frame[\"Gamma\"] = options_frame.apply(_get_gamma, axis=1)\n",
    "options_frame[\"Vega\"] = options_frame.apply(_get_vega, axis=1)\n",
    "options_frame[\"Theta\"] = options_frame.apply(_get_theta, axis=1)\n",
    "options_frame[\"Rho\"] = options_frame.apply(_get_rho, axis=1)\n",
    "options_frame[\"ModelError\"] = options_frame.apply(_get_model_error, axis=1)"
   ]
  },
  {
   "cell_type": "code",
   "execution_count": 52,
   "metadata": {},
   "outputs": [
    {
     "name": "stdout",
     "output_type": "stream",
     "text": [
      "<class 'pandas.core.frame.DataFrame'>\n",
      "RangeIndex: 519 entries, 0 to 518\n",
      "Data columns (total 29 columns):\n",
      " #   Column                Non-Null Count  Dtype         \n",
      "---  ------                --------------  -----         \n",
      " 0   Expiration            519 non-null    datetime64[ns]\n",
      " 1   OptionType            519 non-null    object        \n",
      " 2   Strike                519 non-null    float64       \n",
      " 3   OptionSymbol          519 non-null    object        \n",
      " 4   Last                  519 non-null    float64       \n",
      " 5   Bid                   519 non-null    float64       \n",
      " 6   Ask                   519 non-null    float64       \n",
      " 7   OptionChange          519 non-null    float64       \n",
      " 8   PctChg                519 non-null    object        \n",
      " 9   Volume                519 non-null    int64         \n",
      " 10  OpenInterest          519 non-null    int64         \n",
      " 11  IV                    519 non-null    object        \n",
      " 12  Root                  519 non-null    object        \n",
      " 13  IsNonstandard         519 non-null    bool          \n",
      " 14  UnderlyingSymbol      519 non-null    object        \n",
      " 15  UnderlyingPrice       519 non-null    float64       \n",
      " 16  QuoteDatetime         519 non-null    datetime64[ns]\n",
      " 17  DaysUntilExpiration   519 non-null    int64         \n",
      " 18  TimeUntilExpiration   519 non-null    float64       \n",
      " 19  InterestRate          519 non-null    float64       \n",
      " 20  Mid                   519 non-null    float64       \n",
      " 21  ImpliedVolatilityMid  519 non-null    float64       \n",
      " 22  TheoreticalValue      519 non-null    float64       \n",
      " 23  Delta                 519 non-null    float64       \n",
      " 24  Gamma                 519 non-null    float64       \n",
      " 25  Vega                  519 non-null    float64       \n",
      " 26  Theta                 519 non-null    float64       \n",
      " 27  Rho                   519 non-null    float64       \n",
      " 28  ModelError            519 non-null    float64       \n",
      "dtypes: bool(1), datetime64[ns](2), float64(17), int64(3), object(6)\n",
      "memory usage: 114.2+ KB\n"
     ]
    }
   ],
   "source": [
    "options_frame.info()"
   ]
  },
  {
   "cell_type": "code",
   "execution_count": 53,
   "metadata": {},
   "outputs": [
    {
     "data": {
      "text/html": [
       "<div>\n",
       "<style scoped>\n",
       "    .dataframe tbody tr th:only-of-type {\n",
       "        vertical-align: middle;\n",
       "    }\n",
       "\n",
       "    .dataframe tbody tr th {\n",
       "        vertical-align: top;\n",
       "    }\n",
       "\n",
       "    .dataframe thead th {\n",
       "        text-align: right;\n",
       "    }\n",
       "</style>\n",
       "<table border=\"1\" class=\"dataframe\">\n",
       "  <thead>\n",
       "    <tr style=\"text-align: right;\">\n",
       "      <th></th>\n",
       "      <th>Expiration</th>\n",
       "      <th>OptionType</th>\n",
       "      <th>Strike</th>\n",
       "      <th>OptionSymbol</th>\n",
       "      <th>Last</th>\n",
       "      <th>Bid</th>\n",
       "      <th>Ask</th>\n",
       "      <th>OptionChange</th>\n",
       "      <th>PctChg</th>\n",
       "      <th>Volume</th>\n",
       "      <th>...</th>\n",
       "      <th>InterestRate</th>\n",
       "      <th>Mid</th>\n",
       "      <th>ImpliedVolatilityMid</th>\n",
       "      <th>TheoreticalValue</th>\n",
       "      <th>Delta</th>\n",
       "      <th>Gamma</th>\n",
       "      <th>Vega</th>\n",
       "      <th>Theta</th>\n",
       "      <th>Rho</th>\n",
       "      <th>ModelError</th>\n",
       "    </tr>\n",
       "  </thead>\n",
       "  <tbody>\n",
       "    <tr>\n",
       "      <th>0</th>\n",
       "      <td>2016-01-22</td>\n",
       "      <td>call</td>\n",
       "      <td>124.0</td>\n",
       "      <td>IBM160122C00124000</td>\n",
       "      <td>7.03</td>\n",
       "      <td>6.9</td>\n",
       "      <td>7.95</td>\n",
       "      <td>0.00</td>\n",
       "      <td>0.00%</td>\n",
       "      <td>5</td>\n",
       "      <td>...</td>\n",
       "      <td>0.0001</td>\n",
       "      <td>7.425</td>\n",
       "      <td>0.614568</td>\n",
       "      <td>7.425000</td>\n",
       "      <td>0.756824</td>\n",
       "      <td>0.033476</td>\n",
       "      <td>0.047650</td>\n",
       "      <td>-0.292868</td>\n",
       "      <td>0.012464</td>\n",
       "      <td>-6.513059e-09</td>\n",
       "    </tr>\n",
       "    <tr>\n",
       "      <th>1</th>\n",
       "      <td>2016-01-22</td>\n",
       "      <td>call</td>\n",
       "      <td>125.0</td>\n",
       "      <td>IBM160122C00125000</td>\n",
       "      <td>9.50</td>\n",
       "      <td>6.5</td>\n",
       "      <td>7.20</td>\n",
       "      <td>0.00</td>\n",
       "      <td>0.00%</td>\n",
       "      <td>5</td>\n",
       "      <td>...</td>\n",
       "      <td>0.0001</td>\n",
       "      <td>6.850</td>\n",
       "      <td>0.641744</td>\n",
       "      <td>6.849999</td>\n",
       "      <td>0.713221</td>\n",
       "      <td>0.034864</td>\n",
       "      <td>0.051821</td>\n",
       "      <td>-0.332583</td>\n",
       "      <td>0.011766</td>\n",
       "      <td>1.079141e-06</td>\n",
       "    </tr>\n",
       "    <tr>\n",
       "      <th>2</th>\n",
       "      <td>2016-01-22</td>\n",
       "      <td>call</td>\n",
       "      <td>126.0</td>\n",
       "      <td>IBM160122C00126000</td>\n",
       "      <td>6.05</td>\n",
       "      <td>5.8</td>\n",
       "      <td>6.30</td>\n",
       "      <td>0.25</td>\n",
       "      <td>4.31%</td>\n",
       "      <td>15</td>\n",
       "      <td>...</td>\n",
       "      <td>0.0001</td>\n",
       "      <td>6.050</td>\n",
       "      <td>0.617530</td>\n",
       "      <td>6.050000</td>\n",
       "      <td>0.681449</td>\n",
       "      <td>0.037979</td>\n",
       "      <td>0.054321</td>\n",
       "      <td>-0.335470</td>\n",
       "      <td>0.011309</td>\n",
       "      <td>-1.437312e-07</td>\n",
       "    </tr>\n",
       "    <tr>\n",
       "      <th>3</th>\n",
       "      <td>2016-01-22</td>\n",
       "      <td>call</td>\n",
       "      <td>127.0</td>\n",
       "      <td>IBM160122C00127000</td>\n",
       "      <td>5.40</td>\n",
       "      <td>5.2</td>\n",
       "      <td>5.65</td>\n",
       "      <td>0.00</td>\n",
       "      <td>0.00%</td>\n",
       "      <td>4</td>\n",
       "      <td>...</td>\n",
       "      <td>0.0001</td>\n",
       "      <td>5.425</td>\n",
       "      <td>0.619250</td>\n",
       "      <td>5.425000</td>\n",
       "      <td>0.641165</td>\n",
       "      <td>0.039653</td>\n",
       "      <td>0.056873</td>\n",
       "      <td>-0.352205</td>\n",
       "      <td>0.010677</td>\n",
       "      <td>-3.183839e-09</td>\n",
       "    </tr>\n",
       "    <tr>\n",
       "      <th>4</th>\n",
       "      <td>2016-01-22</td>\n",
       "      <td>call</td>\n",
       "      <td>129.0</td>\n",
       "      <td>IBM160122C00129000</td>\n",
       "      <td>4.19</td>\n",
       "      <td>4.0</td>\n",
       "      <td>4.40</td>\n",
       "      <td>-1.71</td>\n",
       "      <td>-28.98%</td>\n",
       "      <td>35</td>\n",
       "      <td>...</td>\n",
       "      <td>0.0001</td>\n",
       "      <td>4.200</td>\n",
       "      <td>0.605660</td>\n",
       "      <td>4.200000</td>\n",
       "      <td>0.558691</td>\n",
       "      <td>0.042812</td>\n",
       "      <td>0.060056</td>\n",
       "      <td>-0.363756</td>\n",
       "      <td>0.009376</td>\n",
       "      <td>-5.723567e-09</td>\n",
       "    </tr>\n",
       "  </tbody>\n",
       "</table>\n",
       "<p>5 rows × 29 columns</p>\n",
       "</div>"
      ],
      "text/plain": [
       "  Expiration OptionType  Strike        OptionSymbol  Last  Bid   Ask  \\\n",
       "0 2016-01-22       call   124.0  IBM160122C00124000  7.03  6.9  7.95   \n",
       "1 2016-01-22       call   125.0  IBM160122C00125000  9.50  6.5  7.20   \n",
       "2 2016-01-22       call   126.0  IBM160122C00126000  6.05  5.8  6.30   \n",
       "3 2016-01-22       call   127.0  IBM160122C00127000  5.40  5.2  5.65   \n",
       "4 2016-01-22       call   129.0  IBM160122C00129000  4.19  4.0  4.40   \n",
       "\n",
       "   OptionChange   PctChg  Volume  ...  InterestRate    Mid  \\\n",
       "0          0.00    0.00%       5  ...        0.0001  7.425   \n",
       "1          0.00    0.00%       5  ...        0.0001  6.850   \n",
       "2          0.25    4.31%      15  ...        0.0001  6.050   \n",
       "3          0.00    0.00%       4  ...        0.0001  5.425   \n",
       "4         -1.71  -28.98%      35  ...        0.0001  4.200   \n",
       "\n",
       "  ImpliedVolatilityMid  TheoreticalValue     Delta     Gamma      Vega  \\\n",
       "0             0.614568          7.425000  0.756824  0.033476  0.047650   \n",
       "1             0.641744          6.849999  0.713221  0.034864  0.051821   \n",
       "2             0.617530          6.050000  0.681449  0.037979  0.054321   \n",
       "3             0.619250          5.425000  0.641165  0.039653  0.056873   \n",
       "4             0.605660          4.200000  0.558691  0.042812  0.060056   \n",
       "\n",
       "      Theta       Rho    ModelError  \n",
       "0 -0.292868  0.012464 -6.513059e-09  \n",
       "1 -0.332583  0.011766  1.079141e-06  \n",
       "2 -0.335470  0.011309 -1.437312e-07  \n",
       "3 -0.352205  0.010677 -3.183839e-09  \n",
       "4 -0.363756  0.009376 -5.723567e-09  \n",
       "\n",
       "[5 rows x 29 columns]"
      ]
     },
     "execution_count": 53,
     "metadata": {},
     "output_type": "execute_result"
    }
   ],
   "source": [
    "options_frame.head()"
   ]
  },
  {
   "cell_type": "markdown",
   "metadata": {
    "collapsed": true
   },
   "source": [
    "# Analyzing the Model Error\n",
    "\n",
    "It's useful to visualize some of the data we've created. A quantitative analyst has to essentially be a full stack analyst/developer understanding the implications of the valuation models and metrics. Three years ago this was called quantitative research. Now it's called data science.\n",
    "\n",
    "We'll start by simply ploting the model error. Because we computed implied volatility from the Black-Scholes formula then used that result to price the option, you may expect there to be no model error.\n",
    "\n",
    "As you can see from the histogram, this is not the case. In fact there are several occasions where the model error is relatively large."
   ]
  },
  {
   "cell_type": "code",
   "execution_count": 54,
   "metadata": {},
   "outputs": [
    {
     "data": {
      "text/plain": [
       "<AxesSubplot:>"
      ]
     },
     "execution_count": 54,
     "metadata": {},
     "output_type": "execute_result"
    },
    {
     "data": {
      "image/png": "[encoded data removed]",
      "text/plain": [
       "<Figure size 504x288 with 1 Axes>"
      ]
     },
     "metadata": {},
     "output_type": "display_data"
    }
   ],
   "source": [
    "# plot the model error\n",
    "options_frame[\"ModelError\"].hist(figsize=(7, 4))"
   ]
  },
  {
   "cell_type": "markdown",
   "metadata": {},
   "source": [
    "What's the explanation?\n",
    "\n",
    "Based on some of my comments above, our hypothesis should be that deep in or out of the money options largely have wide bid-ask spreads leading to mis-pricing of the options. Let's plot strike v. model error."
   ]
  },
  {
   "cell_type": "code",
   "execution_count": 55,
   "metadata": {},
   "outputs": [
    {
     "data": {
      "text/plain": [
       "<AxesSubplot:xlabel='Strike'>"
      ]
     },
     "execution_count": 55,
     "metadata": {},
     "output_type": "execute_result"
    },
    {
     "data": {
      "image/png": "[encoded data removed]",
      "text/plain": [
       "<Figure size 504x288 with 1 Axes>"
      ]
     },
     "metadata": {},
     "output_type": "display_data"
    }
   ],
   "source": [
    "# grab the index of the 50 largest abs(errors)\n",
    "sorted_errors_idx = (\n",
    "    options_frame[\"ModelError\"].map(abs).sort_values(ascending=False).head(50)\n",
    ")\n",
    "\n",
    "# get the rest of the details from the frame\n",
    "errors_20_largest_by_strike = options_frame.iloc[sorted_errors_idx.index]\n",
    "\n",
    "# plot model error against strike\n",
    "errors_20_largest_by_strike[[\"Strike\", \"ModelError\"]].sort_values(by=\"Strike\").plot(\n",
    "    kind=\"bar\", x=\"Strike\", figsize=(7, 4)\n",
    ")"
   ]
  },
  {
   "cell_type": "markdown",
   "metadata": {},
   "source": [
    "We can also explore how the bid-ask spread contributes to model error."
   ]
  },
  {
   "cell_type": "code",
   "execution_count": 56,
   "metadata": {},
   "outputs": [
    {
     "data": {
      "text/plain": [
       "<AxesSubplot:xlabel='BidAskSpread'>"
      ]
     },
     "execution_count": 56,
     "metadata": {},
     "output_type": "execute_result"
    },
    {
     "data": {
      "image/png": "[encoded data removed]",
      "text/plain": [
       "<Figure size 504x288 with 1 Axes>"
      ]
     },
     "metadata": {},
     "output_type": "display_data"
    }
   ],
   "source": [
    "# add a new column\n",
    "options_frame[\"BidAskSpread\"] = (options_frame[\"Ask\"] - options_frame[\"Bid\"]).round(4)\n",
    "\n",
    "# plot model error by bid-ask spread\n",
    "errors_20_largest_by_spread = options_frame.iloc[sorted_errors_idx.index]\n",
    "\n",
    "# plot model error against strike, many expirations included\n",
    "errors_20_largest_by_spread[[\"BidAskSpread\", \"ModelError\"]].sort_values(\n",
    "    by=\"BidAskSpread\"\n",
    ").plot(kind=\"bar\", x=\"BidAskSpread\", figsize=(7, 4))"
   ]
  },
  {
   "cell_type": "markdown",
   "metadata": {},
   "source": [
    "Finally, let's take a look at the relationship between model error and bid-ask spread."
   ]
  },
  {
   "cell_type": "code",
   "execution_count": 57,
   "metadata": {},
   "outputs": [
    {
     "data": {
      "text/plain": [
       "<AxesSubplot:xlabel='BidAskSpread', ylabel='ModelError'>"
      ]
     },
     "execution_count": 57,
     "metadata": {},
     "output_type": "execute_result"
    },
    {
     "data": {
      "image/png": "[encoded data removed]",
      "text/plain": [
       "<Figure size 504x288 with 1 Axes>"
      ]
     },
     "metadata": {},
     "output_type": "display_data"
    }
   ],
   "source": [
    "# plot a scatter plot of all errors > 1.0e-4\n",
    "options_frame[abs(options_frame[\"ModelError\"]) >= 1.0e-4].plot(\n",
    "    kind=\"scatter\", x=\"BidAskSpread\", y=\"ModelError\", figsize=(7, 4)\n",
    ")"
   ]
  },
  {
   "cell_type": "markdown",
   "metadata": {},
   "source": [
    "There are not enough samples to get any sort of statistical relationship but we can clearly see that as the bid-ask spread increases the model error expands as well."
   ]
  },
  {
   "cell_type": "markdown",
   "metadata": {},
   "source": [
    "# Analyzing Implied Volatility\n",
    "\n",
    "First we'll look at the so-called implied volatility skew. This plots implied volatility for one expiration across strike prices. Given all else equal, an option with a higher implied volatility will be more expensive. Generally deep in and out of the money strikes command higher prices (and by extension higher implied volatilites) than the Black-Scholes formula implies. This skew only began to appear after the crash of US stocks in October 1987. It is assumed that this is a result of assumptions in the underlying distribution assumption having \"fat tails\" rather than being completely normal.\n",
    "\n",
    "Let's take a look."
   ]
  },
  {
   "cell_type": "code",
   "execution_count": 58,
   "metadata": {},
   "outputs": [
    {
     "data": {
      "text/plain": [
       "<AxesSubplot:title={'center':'Implied volatility skew'}, xlabel='Strike'>"
      ]
     },
     "execution_count": 58,
     "metadata": {},
     "output_type": "execute_result"
    },
    {
     "data": {
      "image/png": "[encoded data removed]",
      "text/plain": [
       "<Figure size 504x288 with 1 Axes>"
      ]
     },
     "metadata": {},
     "output_type": "display_data"
    }
   ],
   "source": [
    "# select an expiration to plot\n",
    "iv = options_frame[options_frame[\"Expiration\"] == \"2016-03-18\"]\n",
    "\n",
    "# get the call options\n",
    "iv_call = iv[iv[\"OptionType\"] == \"call\"]\n",
    "\n",
    "# set the strike as the index so pandas plots nicely\n",
    "iv_call[[\"Strike\", \"ImpliedVolatilityMid\"]].set_index(\"Strike\").plot(\n",
    "    title=\"Implied volatility skew\", figsize=(7, 4)\n",
    ")"
   ]
  },
  {
   "cell_type": "markdown",
   "metadata": {
    "collapsed": true
   },
   "source": [
    "The curve shows that at the money strikes have a higher implied volatiltiy out the money srikes. This is a bit unusual but very likely due to the general state of market volitlity. Traders are pricing at the money call options much more expensive than out the money call options as a result of the demand for call options at the $130 strike.\n",
    "\n",
    "In a professional setting, traders would use proprietary models (not simple linear interpolation) to rebuild the curves. If the proprietary model resulted in an implied volatility that was higher than the market, a trade would be executed to exploit the anomaly. In our case, we're simply visualizing the prevailing market state.\n",
    "\n",
    "Another interesting analysis is to look at the multi-expiration skew chart."
   ]
  },
  {
   "cell_type": "code",
   "execution_count": 59,
   "metadata": {},
   "outputs": [
    {
     "data": {
      "text/plain": [
       "<AxesSubplot:xlabel='Strike'>"
      ]
     },
     "execution_count": 59,
     "metadata": {},
     "output_type": "execute_result"
    },
    {
     "data": {
      "image/png": "[encoded data removed]",
      "text/plain": [
       "<Figure size 504x288 with 1 Axes>"
      ]
     },
     "metadata": {},
     "output_type": "display_data"
    }
   ],
   "source": [
    "# get the monthly expirations\n",
    "expirations = options_frame[\"Expiration\"].unique()[-5:]\n",
    "\n",
    "# get all the rows where expiration is in our list of expirations\n",
    "iv_multi = options_frame[options_frame[\"Expiration\"].isin(expirations)]\n",
    "\n",
    "# get the call options\n",
    "iv_multi_call = iv_multi[iv_multi[\"OptionType\"] == \"call\"]\n",
    "\n",
    "# pivot the data frame to put expiration dates as columns\n",
    "iv_pivoted = (\n",
    "    iv_multi_call[[\"DaysUntilExpiration\", \"Strike\", \"ImpliedVolatilityMid\"]]\n",
    "    .pivot(index=\"Strike\", columns=\"DaysUntilExpiration\", values=\"ImpliedVolatilityMid\")\n",
    "    .dropna()\n",
    ")\n",
    "\n",
    "# plot\n",
    "iv_pivoted.plot(figsize=(7, 4))"
   ]
  },
  {
   "cell_type": "markdown",
   "metadata": {},
   "source": [
    "We'll take a look now at the term structure of volatility. This measures implied volatility at a given strike (usually an at the money strike) but across expirations. Similar to the concept of backwardization and contango in the futures markets, the term structure gives an idea of the demand for options at a particular time in the future."
   ]
  },
  {
   "cell_type": "code",
   "execution_count": 60,
   "metadata": {},
   "outputs": [
    {
     "data": {
      "text/plain": [
       "<AxesSubplot:xlabel='Expiration'>"
      ]
     },
     "execution_count": 60,
     "metadata": {},
     "output_type": "execute_result"
    },
    {
     "data": {
      "image/png": "[encoded data removed]",
      "text/plain": [
       "<Figure size 504x288 with 1 Axes>"
      ]
     },
     "metadata": {},
     "output_type": "display_data"
    }
   ],
   "source": [
    "# select a strike to plot\n",
    "iv = options_frame[options_frame[\"Strike\"] == 130.0]\n",
    "\n",
    "# get the call options\n",
    "iv_call = iv[iv[\"OptionType\"] == \"call\"]\n",
    "\n",
    "# set the strike as the index so pandas plots nicely\n",
    "iv_call[[\"Expiration\", \"ImpliedVolatilityMid\"]].set_index(\"Expiration\").plot(\n",
    "    figsize=(7, 4)\n",
    ")"
   ]
  },
  {
   "cell_type": "markdown",
   "metadata": {
    "collapsed": true
   },
   "source": [
    "This is a clear demonstration of a violation of the Black-Scholes model assuptions. A flat volatility term structure does not exist in the markets and we have the empirical evidence to prove it.\n",
    "\n",
    "At the $130 strike, implied is very high at very near expirations. This is a result of the recent market volatility which has increased demand for this option."
   ]
  },
  {
   "cell_type": "markdown",
   "metadata": {},
   "source": [
    "One last thing to do is plot the famous volatility surface. This gives a three dimentional representation of the implied volatility against strike price and expiration. While it is sometimes hard to glean any tradeable insight from the surface directly, building surfaces is important to value other derivatives that may not have an exact strike and expiration. This usually happens in the institutional setting however so professional traders can devise their own volatility models and use the implied volatility surface to understand if options are cheap or expensive."
   ]
  },
  {
   "cell_type": "code",
   "execution_count": 61,
   "metadata": {
    "scrolled": false
   },
   "outputs": [
    {
     "data": {
      "text/plain": [
       "<mpl_toolkits.mplot3d.art3d.Poly3DCollection at 0x7fc399776cd0>"
      ]
     },
     "execution_count": 61,
     "metadata": {},
     "output_type": "execute_result"
    },
    {
     "data": {
      "image/png": "[encoded data removed]",
      "text/plain": [
       "<Figure size 504x288 with 1 Axes>"
      ]
     },
     "metadata": {},
     "output_type": "display_data"
    }
   ],
   "source": [
    "# pivot the dataframe\n",
    "iv_pivoted_surface = iv_multi_call[['DaysUntilExpiration', 'Strike', 'ImpliedVolatilityMid']].pivot(index='Strike', columns='DaysUntilExpiration', values='ImpliedVolatilityMid').dropna()\n",
    "\n",
    "# create the figure object\n",
    "fig = plt.figure(figsize=(7, 4))\n",
    "\n",
    "# add the subplot with projection argument\n",
    "ax = fig.add_subplot(111, projection='3d')\n",
    "\n",
    "# get the 1d values from the pivoted dataframe\n",
    "x, y, z = iv_pivoted_surface.columns.values, iv_pivoted_surface.index.values, iv_pivoted_surface.values\n",
    "\n",
    "# return coordinate matrices from coordinate vectors\n",
    "X, Y = np.meshgrid(x, y)\n",
    "\n",
    "# set labels\n",
    "ax.set_xlabel('Days to expiration')\n",
    "ax.set_ylabel('Strike price')\n",
    "ax.set_zlabel('Implied volatility')\n",
    "ax.set_title('Implied volatility surface')\n",
    "\n",
    "# plot\n",
    "ax.plot_surface(X, Y, z, rstride=4, cstride=4, color='orangered', edgecolors='k', lw=0.6)"
   ]
  },
  {
   "cell_type": "markdown",
   "metadata": {},
   "source": [
    "# Conclusion\n",
    "\n",
    "This ebook introduced the concept of implied volatility which is an unobserved, but important, input into pricing models. Before we were able to discuss implied volatility, we needed an introduction to the Black-Scholes model and associated pricing formula. Along the way we reviewed the greeks and understood how the Black-Scholes formula is used practically in the markets.\n",
    "\n",
    "In addition to the theory and math behind the models, we learned how to code it all in Python relying heavily on `Pandas` to gather and manipulate data and `NumPy` and `SciPy` to implement some of the models."
   ]
  },
  {
   "cell_type": "markdown",
   "metadata": {},
   "source": [
    "# References\n",
    "\n",
    "* http://pandas.pydata.org/pandas-docs/stable/index.html\n",
    "* http://docs.scipy.org/doc/scipy-0.14.0/reference/generated/scipy.optimize.brentq.html\n",
    "* http://docs.scipy.org/doc/scipy-0.14.0/reference/generated/scipy.interpolate.interp1d.html\n",
    "* http://docs.scipy.org/doc/numpy-1.10.0/reference/generated/numpy.meshgrid.html\n",
    "* http://matplotlib.org/mpl_toolkits/mplot3d/tutorial.html\n",
    "* http://nbviewer.ipython.org/github/quantopian/qgrid/blob/master/qgrid_demo.ipynb\n",
    "* http://daringfireball.net/projects/markdown/syntax\n",
    "* http://www.codecogs.com/latex/eqneditor.php\n",
    "* http://www.bespokeoptions.com/blog/2015/10/06/implied-volatility-with-c-and-python-pt-1\n",
    "* http://blog.nag.com/2013/10/implied-volatility-using-pythons-pandas.html\n",
    "* http://www.888options.com\n",
    "* https://en.wikipedia.org/wiki/Black%E2%80%93Scholes_model\n",
    "* https://en.wikipedia.org/wiki/Greeks_(finance)\n",
    "* https://en.wikipedia.org/wiki/Volatility_smile\n",
    "* http://pythonpodcast.com/scott-sanderson-algorithmic-trading.html\n",
    "* http://pythonpodcast.com/yves-hilpisch-quant-finance.html"
   ]
  },
  {
   "cell_type": "markdown",
   "metadata": {},
   "source": [
    "Hi, I'm Jason.\n",
    "\n",
    "I studied finance, economics and computer science during my undergraduate coursework in the US. In graduate school I studied quantitative finance and trading, graduating with a Master of Science in Finance. I traded interest rate derivatives for a hedge fund in Chicago, worked for JPMorgan in Chicago, BP in London, a global agricultural trading firm in Singaore, a technology venture capital firm, a commodities trading firm and now Amazon Web Services.\n",
    "\n",
    "I'm online:\n",
    "\n",
    "* [LinkedIn](https://sg.linkedin.com/in/jasonstrimpel)\n",
    "* [Personal Twitter](https://twitter.com/jasonstrimpel)\n",
    "* [PyQuant News Twitter](https://twitter.com/pyquantnews)\n",
    "* [PyQuant News](http://www.pyquantnews.com)\n",
    "* [Github](https://github.com/jasonstrimpel)\n",
    "* [Finance Tools](http://finance.jasonstrimpel.com)\n"
   ]
  }
 ],
 "metadata": {
  "kernelspec": {
   "display_name": "Python 3 (ipykernel)",
   "language": "python",
   "name": "python3"
  },
  "language_info": {
   "codemirror_mode": {
    "name": "ipython",
    "version": 3
   },
   "file_extension": ".py",
   "mimetype": "text/x-python",
   "name": "python",
   "nbconvert_exporter": "python",
   "pygments_lexer": "ipython3",
   "version": "3.9.7"
  }
 },
 "nbformat": 4,
 "nbformat_minor": 1
}
