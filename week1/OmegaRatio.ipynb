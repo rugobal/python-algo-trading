{
 "cells": [
  {
   "cell_type": "markdown",
   "id": "33b96dff",
   "metadata": {},
   "source": [
    "# Capture Your Tail Risk With The Omega Ratio\n",
    "\n",
    "The Omega ratio is a weighted ratio of gains and losses above a threshold return. It captures more information about returns than similar metrics like the Sharpe ratio.\n",
    "\n",
    "It does this by adding up the area under the distribution around the threshold return. The area above the threshold measures the weight of the gains. The area below the threshold measures the weight of the losses. The Omega ratio is the positive area divided by the negative area.\n",
    "\n",
    "If this sounds abstract, don’t worry. It’s straightforward in Python.\n"
   ]
  },
  {
   "cell_type": "markdown",
   "id": "a0f8d57d",
   "metadata": {},
   "source": [
    "## Without Considering The Omega Ratio, You Miss Important Information About Risk.\n",
    "\n",
    "Sophisticated investors like hedge funds use the Omega ratio. They use it because alternative investments have long-tail risks not measured by other metrics like the Sharpe ratio. Even if you’re not investing in exotic derivatives, the Omega ratio is useful.\n",
    "\n",
    "A simple test shows us AAPL’s returns are not normally distributed."
   ]
  },
  {
   "cell_type": "markdown",
   "id": "7f2fbccb",
   "metadata": {},
   "source": [
    "The skew (which measures symmetry) is -0.01. A normal distribution has skew of 0. The kurtosis (which measures outliers) is 5.3. A normal distribution has kurtosis of 3.\n",
    "\n",
    "Using performance metrics that don’t take the entire distribution into consideration misses important information about risk. Use the Omega ratio to capture it.\n",
    "\n",
    "Here's what we'll do:\n",
    "\n",
    "1. Get stock price data\n",
    "2. Compute the Omega ratio\n",
    "3. Assess AAPL with the Omega ratio"
   ]
  },
  {
   "cell_type": "markdown",
   "id": "b5c0e062",
   "metadata": {},
   "source": [
    "## Step 1: Get The Data\n",
    "\n",
    "Start by importing the libraries and getting the data. I like to use yfinance for getting stock data."
   ]
  },
  {
   "cell_type": "code",
   "execution_count": 1,
   "id": "90fe166c",
   "metadata": {},
   "outputs": [],
   "source": [
    "import numpy as np\n",
    "\n",
    "from openbb_terminal.sdk import openbb"
   ]
  },
  {
   "cell_type": "markdown",
   "id": "30c11229",
   "metadata": {},
   "source": [
    "Grab the data and compute returns."
   ]
  },
  {
   "cell_type": "code",
   "execution_count": 2,
   "id": "dcc44bd4",
   "metadata": {},
   "outputs": [
    {
     "data": {
      "text/html": [
       "<pre style=\"white-space:pre;overflow-x:auto;line-height:normal;font-family:Menlo,'DejaVu Sans Mono',consolas,'Courier New',monospace\">Loading Daily data for AAPL with starting period 2010-01-04.\n",
       "</pre>\n"
      ],
      "text/plain": [
       "Loading Daily data for AAPL with starting period 2010-01-04.\n"
      ]
     },
     "metadata": {},
     "output_type": "display_data"
    }
   ],
   "source": [
    "data = openbb.stocks.load(\"AAPL\", start_date=\"2010-01-01\", end_date=\"2021-12-31\")"
   ]
  },
  {
   "cell_type": "code",
   "execution_count": 3,
   "id": "63c2e286",
   "metadata": {},
   "outputs": [],
   "source": [
    "returns = data[\"Adj Close\"].pct_change()"
   ]
  },
  {
   "cell_type": "markdown",
   "id": "c1224e16",
   "metadata": {},
   "source": [
    "## Step 2: Compute The Omega Ratio\n",
    "\n",
    "Creating a function for the Omega ratio in Python is straightforward."
   ]
  },
  {
   "cell_type": "code",
   "execution_count": 4,
   "id": "7596b91d",
   "metadata": {},
   "outputs": [],
   "source": [
    "def omega_ratio(returns, required_return=0.0):\n",
    "    \"\"\"Determines the Omega ratio of a strategy.\n",
    "    \n",
    "    Parameters\n",
    "    ----------\n",
    "    returns : pd.Series or np.ndarray\n",
    "        Daily returns of the strategy, noncumulative.\n",
    "    required_return : float, optional\n",
    "        Minimum acceptance return of the investor. Threshold over which to\n",
    "        consider positive vs negative returns. It will be converted to a\n",
    "        value appropriate for the period of the returns. E.g. An annual minimum\n",
    "        acceptable return of 100 will translate to a minimum acceptable\n",
    "        return of 0.018.\n",
    "\n",
    "    Returns\n",
    "    -------\n",
    "    omega_ratio : float\n",
    "\n",
    "    Note\n",
    "    -----\n",
    "    See https://en.wikipedia.org/wiki/Omega_ratio for more details.\n",
    "    \"\"\"\n",
    "\n",
    "    return_threshold = (1 + required_return) ** (1 / 252) - 1\n",
    "\n",
    "    returns_less_thresh = returns - return_threshold\n",
    "\n",
    "    numer = sum(returns_less_thresh[returns_less_thresh > 0.0])\n",
    "    denom = -1.0 * sum(returns_less_thresh[returns_less_thresh < 0.0])\n",
    "\n",
    "    if denom > 0.0:\n",
    "        return numer / denom\n",
    "    else:\n",
    "        return np.nan"
   ]
  },
  {
   "cell_type": "markdown",
   "id": "9860e218",
   "metadata": {},
   "source": [
    "First, annualize the return threshold. (The ** syntax in Python is the power operator i.e. 2**2 is 2 squared.) Then, subtract the threshold from the returns. Finally, add up the positive returns less the threshold and negative returns less the threshold.\n",
    "\n",
    "The Omega ratio is the sum of positive returns less the threshold divided by the sum of negative returns less the threshold."
   ]
  },
  {
   "cell_type": "markdown",
   "id": "cd372999",
   "metadata": {},
   "source": [
    "## Step 3: Use The Omega Ratio\n",
    "When analyzing a stock, investment returns, or strategy performance, start with the return distribution. If the returns have skew and kurtosis, consider using the Omega ratio.\n",
    "\n",
    "Going back to the AAPL example, create a distribution of returns in one line of code."
   ]
  },
  {
   "cell_type": "code",
   "execution_count": 5,
   "id": "f496922a",
   "metadata": {},
   "outputs": [
    {
     "data": {
      "text/plain": [
       "<AxesSubplot: >"
      ]
     },
     "execution_count": 5,
     "metadata": {},
     "output_type": "execute_result"
    },
    {
     "data": {
      "image/png": "[encoded data removed]",
      "text/plain": [
       "<Figure size 640x480 with 1 Axes>"
      ]
     },
     "metadata": {},
     "output_type": "display_data"
    }
   ],
   "source": [
    "returns.hist(bins=50)"
   ]
  },
  {
   "cell_type": "markdown",
   "id": "82b5eb92",
   "metadata": {},
   "source": [
    "You can check the skew and kurtosis.\n",
    "\n"
   ]
  },
  {
   "cell_type": "code",
   "execution_count": 6,
   "id": "b1e44d7c",
   "metadata": {},
   "outputs": [
    {
     "data": {
      "text/plain": [
       "-0.10155067279977033"
      ]
     },
     "execution_count": 6,
     "metadata": {},
     "output_type": "execute_result"
    }
   ],
   "source": [
    "returns.skew()"
   ]
  },
  {
   "cell_type": "code",
   "execution_count": 7,
   "id": "7c177801",
   "metadata": {},
   "outputs": [
    {
     "data": {
      "text/plain": [
       "5.796382407350554"
      ]
     },
     "execution_count": 7,
     "metadata": {},
     "output_type": "execute_result"
    }
   ],
   "source": [
    "returns.kurtosis()"
   ]
  },
  {
   "cell_type": "markdown",
   "id": "cf06c420",
   "metadata": {},
   "source": [
    "And finally, compute the Omega ratio.\n",
    "\n"
   ]
  },
  {
   "cell_type": "code",
   "execution_count": 8,
   "id": "70050d52",
   "metadata": {},
   "outputs": [
    {
     "data": {
      "text/plain": [
       "1.1722399463628774"
      ]
     },
     "execution_count": 8,
     "metadata": {},
     "output_type": "execute_result"
    }
   ],
   "source": [
    "omega_ratio(returns, 0.07)"
   ]
  },
  {
   "cell_type": "markdown",
   "id": "01a868b9",
   "metadata": {},
   "source": [
    "Here, I use a threshold of 7% which is the historical average annual return of the stock market. The Omega ratio is 1.2. Taking into consideration skew and kurtosis, AAPL’s gains outperformed the losses by a factor of 1.2.\n",
    "\n",
    "Since asset returns are not normally distributed, use the Omega ratio to capture risks other metrics don’t.\n"
   ]
  },
  {
   "cell_type": "code",
   "execution_count": null,
   "id": "802570e3",
   "metadata": {},
   "outputs": [],
   "source": []
  }
 ],
 "metadata": {
  "kernelspec": {
   "display_name": "Python 3 (ipykernel)",
   "language": "python",
   "name": "python3"
  },
  "language_info": {
   "codemirror_mode": {
    "name": "ipython",
    "version": 3
   },
   "file_extension": ".py",
   "mimetype": "text/x-python",
   "name": "python",
   "nbconvert_exporter": "python",
   "pygments_lexer": "ipython3",
   "version": "3.9.13"
  }
 },
 "nbformat": 4,
 "nbformat_minor": 5
}
